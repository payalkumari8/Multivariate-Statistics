{
  "cells": [
    {
      "cell_type": "markdown",
      "metadata": {
        "id": "view-in-github",
        "colab_type": "text"
      },
      "source": [
        "<a href=\"https://colab.research.google.com/github/payalkumari8/Multivariate-Statistics/blob/main/SLR_notebook.ipynb\" target=\"_parent\"><img src=\"https://colab.research.google.com/assets/colab-badge.svg\" alt=\"Open In Colab\"/></a>"
      ]
    },
    {
      "cell_type": "code",
      "execution_count": null,
      "metadata": {
        "id": "KI6q7J6t6rJ1",
        "outputId": "33971674-5006-49ba-e4d8-b638c80b6967"
      },
      "outputs": [
        {
          "data": {
            "text/html": [
              "<div>\n",
              "<style scoped>\n",
              "    .dataframe tbody tr th:only-of-type {\n",
              "        vertical-align: middle;\n",
              "    }\n",
              "\n",
              "    .dataframe tbody tr th {\n",
              "        vertical-align: top;\n",
              "    }\n",
              "\n",
              "    .dataframe thead th {\n",
              "        text-align: right;\n",
              "    }\n",
              "</style>\n",
              "<table border=\"1\" class=\"dataframe\">\n",
              "  <thead>\n",
              "    <tr style=\"text-align: right;\">\n",
              "      <th></th>\n",
              "      <th>TV</th>\n",
              "      <th>Radio</th>\n",
              "      <th>Newspaper</th>\n",
              "      <th>Sales</th>\n",
              "    </tr>\n",
              "  </thead>\n",
              "  <tbody>\n",
              "    <tr>\n",
              "      <th>0</th>\n",
              "      <td>230.1</td>\n",
              "      <td>37.8</td>\n",
              "      <td>69.2</td>\n",
              "      <td>22.1</td>\n",
              "    </tr>\n",
              "    <tr>\n",
              "      <th>1</th>\n",
              "      <td>44.5</td>\n",
              "      <td>39.3</td>\n",
              "      <td>45.1</td>\n",
              "      <td>10.4</td>\n",
              "    </tr>\n",
              "    <tr>\n",
              "      <th>2</th>\n",
              "      <td>17.2</td>\n",
              "      <td>45.9</td>\n",
              "      <td>69.3</td>\n",
              "      <td>12.0</td>\n",
              "    </tr>\n",
              "    <tr>\n",
              "      <th>3</th>\n",
              "      <td>151.5</td>\n",
              "      <td>41.3</td>\n",
              "      <td>58.5</td>\n",
              "      <td>16.5</td>\n",
              "    </tr>\n",
              "    <tr>\n",
              "      <th>4</th>\n",
              "      <td>180.8</td>\n",
              "      <td>10.8</td>\n",
              "      <td>58.4</td>\n",
              "      <td>17.9</td>\n",
              "    </tr>\n",
              "    <tr>\n",
              "      <th>...</th>\n",
              "      <td>...</td>\n",
              "      <td>...</td>\n",
              "      <td>...</td>\n",
              "      <td>...</td>\n",
              "    </tr>\n",
              "    <tr>\n",
              "      <th>195</th>\n",
              "      <td>38.2</td>\n",
              "      <td>3.7</td>\n",
              "      <td>13.8</td>\n",
              "      <td>7.6</td>\n",
              "    </tr>\n",
              "    <tr>\n",
              "      <th>196</th>\n",
              "      <td>94.2</td>\n",
              "      <td>4.9</td>\n",
              "      <td>8.1</td>\n",
              "      <td>14.0</td>\n",
              "    </tr>\n",
              "    <tr>\n",
              "      <th>197</th>\n",
              "      <td>177.0</td>\n",
              "      <td>9.3</td>\n",
              "      <td>6.4</td>\n",
              "      <td>14.8</td>\n",
              "    </tr>\n",
              "    <tr>\n",
              "      <th>198</th>\n",
              "      <td>283.6</td>\n",
              "      <td>42.0</td>\n",
              "      <td>66.2</td>\n",
              "      <td>25.5</td>\n",
              "    </tr>\n",
              "    <tr>\n",
              "      <th>199</th>\n",
              "      <td>232.1</td>\n",
              "      <td>8.6</td>\n",
              "      <td>8.7</td>\n",
              "      <td>18.4</td>\n",
              "    </tr>\n",
              "  </tbody>\n",
              "</table>\n",
              "<p>200 rows × 4 columns</p>\n",
              "</div>"
            ],
            "text/plain": [
              "        TV  Radio  Newspaper  Sales\n",
              "0    230.1   37.8       69.2   22.1\n",
              "1     44.5   39.3       45.1   10.4\n",
              "2     17.2   45.9       69.3   12.0\n",
              "3    151.5   41.3       58.5   16.5\n",
              "4    180.8   10.8       58.4   17.9\n",
              "..     ...    ...        ...    ...\n",
              "195   38.2    3.7       13.8    7.6\n",
              "196   94.2    4.9        8.1   14.0\n",
              "197  177.0    9.3        6.4   14.8\n",
              "198  283.6   42.0       66.2   25.5\n",
              "199  232.1    8.6        8.7   18.4\n",
              "\n",
              "[200 rows x 4 columns]"
            ]
          },
          "execution_count": 3,
          "metadata": {},
          "output_type": "execute_result"
        }
      ],
      "source": [
        "# Importing naumpy and pandas libraries to read the data\n",
        "\n",
        "# Supress Warnings\n",
        "import warnings\n",
        "warnings.filterwarnings('ignore')\n",
        "\n",
        "# Import the numpy and pandas package\n",
        "import numpy as np\n",
        "import pandas as pd\n",
        "\n",
        "# Read the given CSV file, and view some sample records\n",
        "advertising = pd.read_csv(\"Company_data.csv\")\n",
        "advertising"
      ],
      "id": "KI6q7J6t6rJ1"
    },
    {
      "cell_type": "code",
      "execution_count": null,
      "metadata": {
        "id": "cbB3wKAz6rKD",
        "outputId": "9d6126db-961f-407b-a63d-1116527a7bcc"
      },
      "outputs": [
        {
          "name": "stdout",
          "output_type": "stream",
          "text": [
            "<class 'pandas.core.frame.DataFrame'>\n",
            "RangeIndex: 200 entries, 0 to 199\n",
            "Data columns (total 4 columns):\n",
            " #   Column     Non-Null Count  Dtype  \n",
            "---  ------     --------------  -----  \n",
            " 0   TV         200 non-null    float64\n",
            " 1   Radio      200 non-null    float64\n",
            " 2   Newspaper  200 non-null    float64\n",
            " 3   Sales      200 non-null    float64\n",
            "dtypes: float64(4)\n",
            "memory usage: 6.4 KB\n"
          ]
        },
        {
          "data": {
            "text/html": [
              "<div>\n",
              "<style scoped>\n",
              "    .dataframe tbody tr th:only-of-type {\n",
              "        vertical-align: middle;\n",
              "    }\n",
              "\n",
              "    .dataframe tbody tr th {\n",
              "        vertical-align: top;\n",
              "    }\n",
              "\n",
              "    .dataframe thead th {\n",
              "        text-align: right;\n",
              "    }\n",
              "</style>\n",
              "<table border=\"1\" class=\"dataframe\">\n",
              "  <thead>\n",
              "    <tr style=\"text-align: right;\">\n",
              "      <th></th>\n",
              "      <th>TV</th>\n",
              "      <th>Radio</th>\n",
              "      <th>Newspaper</th>\n",
              "      <th>Sales</th>\n",
              "    </tr>\n",
              "  </thead>\n",
              "  <tbody>\n",
              "    <tr>\n",
              "      <th>count</th>\n",
              "      <td>200.000000</td>\n",
              "      <td>200.000000</td>\n",
              "      <td>200.000000</td>\n",
              "      <td>200.000000</td>\n",
              "    </tr>\n",
              "    <tr>\n",
              "      <th>mean</th>\n",
              "      <td>147.042500</td>\n",
              "      <td>23.264000</td>\n",
              "      <td>30.554000</td>\n",
              "      <td>15.130500</td>\n",
              "    </tr>\n",
              "    <tr>\n",
              "      <th>std</th>\n",
              "      <td>85.854236</td>\n",
              "      <td>14.846809</td>\n",
              "      <td>21.778621</td>\n",
              "      <td>5.283892</td>\n",
              "    </tr>\n",
              "    <tr>\n",
              "      <th>min</th>\n",
              "      <td>0.700000</td>\n",
              "      <td>0.000000</td>\n",
              "      <td>0.300000</td>\n",
              "      <td>1.600000</td>\n",
              "    </tr>\n",
              "    <tr>\n",
              "      <th>25%</th>\n",
              "      <td>74.375000</td>\n",
              "      <td>9.975000</td>\n",
              "      <td>12.750000</td>\n",
              "      <td>11.000000</td>\n",
              "    </tr>\n",
              "    <tr>\n",
              "      <th>50%</th>\n",
              "      <td>149.750000</td>\n",
              "      <td>22.900000</td>\n",
              "      <td>25.750000</td>\n",
              "      <td>16.000000</td>\n",
              "    </tr>\n",
              "    <tr>\n",
              "      <th>75%</th>\n",
              "      <td>218.825000</td>\n",
              "      <td>36.525000</td>\n",
              "      <td>45.100000</td>\n",
              "      <td>19.050000</td>\n",
              "    </tr>\n",
              "    <tr>\n",
              "      <th>max</th>\n",
              "      <td>296.400000</td>\n",
              "      <td>49.600000</td>\n",
              "      <td>114.000000</td>\n",
              "      <td>27.000000</td>\n",
              "    </tr>\n",
              "  </tbody>\n",
              "</table>\n",
              "</div>"
            ],
            "text/plain": [
              "               TV       Radio   Newspaper       Sales\n",
              "count  200.000000  200.000000  200.000000  200.000000\n",
              "mean   147.042500   23.264000   30.554000   15.130500\n",
              "std     85.854236   14.846809   21.778621    5.283892\n",
              "min      0.700000    0.000000    0.300000    1.600000\n",
              "25%     74.375000    9.975000   12.750000   11.000000\n",
              "50%    149.750000   22.900000   25.750000   16.000000\n",
              "75%    218.825000   36.525000   45.100000   19.050000\n",
              "max    296.400000   49.600000  114.000000   27.000000"
            ]
          },
          "execution_count": 4,
          "metadata": {},
          "output_type": "execute_result"
        }
      ],
      "source": [
        "# Shape of our dataset\n",
        "advertising.shape\n",
        "\n",
        "# Info our dataset\n",
        "advertising.info()\n",
        "\n",
        "# Describe our dataset\n",
        "advertising.describe()"
      ],
      "id": "cbB3wKAz6rKD"
    },
    {
      "cell_type": "code",
      "execution_count": null,
      "metadata": {
        "id": "A1mBgesx6rKG",
        "outputId": "778de350-44f7-4829-96cc-4872731389a8"
      },
      "outputs": [
        {
          "data": {
            "image/png": "[encoded data removed]",
            "text/plain": [
              "<Figure size 864x288 with 3 Axes>"
            ]
          },
          "metadata": {
            "needs_background": "light"
          },
          "output_type": "display_data"
        }
      ],
      "source": [
        "\n",
        "# Import matplotlib and seaborn libraries to visualize the data\n",
        "import matplotlib.pyplot as plt \n",
        "import seaborn as sns\n",
        "\n",
        "# Using pairplot we'll visualize the data for correlation\n",
        "sns.pairplot(advertising, x_vars=['TV', 'Radio','Newspaper'], \n",
        "             y_vars='Sales', size=4, aspect=1, kind='scatter')\n",
        "plt.show()"
      ],
      "id": "A1mBgesx6rKG"
    },
    {
      "cell_type": "code",
      "execution_count": null,
      "metadata": {
        "id": "jcYSW2Le6rKJ",
        "outputId": "d8e43873-69bf-43f2-8ea4-d69fbc1daa8b"
      },
      "outputs": [
        {
          "data": {
            "image/png": "[encoded data removed]",
            "text/plain": [
              "<Figure size 432x288 with 2 Axes>"
            ]
          },
          "metadata": {
            "needs_background": "light"
          },
          "output_type": "display_data"
        }
      ],
      "source": [
        "\n",
        "# Visualizing the data using heatmap\n",
        "sns.heatmap(advertising.corr(), cmap=\"YlGnBu\", annot = True)\n",
        "plt.show()"
      ],
      "id": "jcYSW2Le6rKJ"
    },
    {
      "cell_type": "code",
      "execution_count": null,
      "metadata": {
        "id": "aof8fNbD6rKL"
      },
      "outputs": [],
      "source": [
        "# Creating X and y\n",
        "X = advertising['TV']\n",
        "y = advertising['Sales']"
      ],
      "id": "aof8fNbD6rKL"
    },
    {
      "cell_type": "code",
      "execution_count": null,
      "metadata": {
        "id": "o3fd7G196rKN"
      },
      "outputs": [],
      "source": [
        "# Splitting the varaibles as training and testing\n",
        "from sklearn.model_selection import train_test_split\n",
        "X_train, X_test, y_train, y_test = train_test_split(X, y, train_size = 0.7, test_size = 0.3)"
      ],
      "id": "o3fd7G196rKN"
    },
    {
      "cell_type": "code",
      "execution_count": null,
      "metadata": {
        "id": "y22fPOXu6rKP"
      },
      "outputs": [],
      "source": [
        "# Importing Statsmodels.api library from Stamodel package\n",
        "import statsmodels.api as sm\n",
        "\n",
        "# Adding a constant to get an intercept\n",
        "X_train_sm = sm.add_constant(X_train)"
      ],
      "id": "y22fPOXu6rKP"
    },
    {
      "cell_type": "code",
      "execution_count": null,
      "metadata": {
        "id": "qageXGbL6rKS",
        "outputId": "60b110f9-3464-4d63-f260-7f361b551dce"
      },
      "outputs": [
        {
          "data": {
            "text/plain": [
              "const    6.960597\n",
              "TV       0.055833\n",
              "dtype: float64"
            ]
          },
          "execution_count": 84,
          "metadata": {},
          "output_type": "execute_result"
        }
      ],
      "source": [
        "# Fitting the resgression line using 'OLS'\n",
        "lr = sm.OLS(y_train, X_train_sm).fit()\n",
        "\n",
        "# Printing the parameters\n",
        "lr.params"
      ],
      "id": "qageXGbL6rKS"
    },
    {
      "cell_type": "code",
      "execution_count": null,
      "metadata": {
        "id": "wur5jZVd6rKV",
        "outputId": "f19e1aa0-cc24-459c-d7d1-e89719d17cba"
      },
      "outputs": [
        {
          "data": {
            "text/html": [
              "<table class=\"simpletable\">\n",
              "<caption>OLS Regression Results</caption>\n",
              "<tr>\n",
              "  <th>Dep. Variable:</th>          <td>Sales</td>      <th>  R-squared:         </th> <td>   0.816</td>\n",
              "</tr>\n",
              "<tr>\n",
              "  <th>Model:</th>                   <td>OLS</td>       <th>  Adj. R-squared:    </th> <td>   0.815</td>\n",
              "</tr>\n",
              "<tr>\n",
              "  <th>Method:</th>             <td>Least Squares</td>  <th>  F-statistic:       </th> <td>   612.3</td>\n",
              "</tr>\n",
              "<tr>\n",
              "  <th>Date:</th>             <td>Wed, 08 Sep 2021</td> <th>  Prob (F-statistic):</th> <td>1.36e-52</td>\n",
              "</tr>\n",
              "<tr>\n",
              "  <th>Time:</th>                 <td>13:31:28</td>     <th>  Log-Likelihood:    </th> <td> -314.49</td>\n",
              "</tr>\n",
              "<tr>\n",
              "  <th>No. Observations:</th>      <td>   140</td>      <th>  AIC:               </th> <td>   633.0</td>\n",
              "</tr>\n",
              "<tr>\n",
              "  <th>Df Residuals:</th>          <td>   138</td>      <th>  BIC:               </th> <td>   638.9</td>\n",
              "</tr>\n",
              "<tr>\n",
              "  <th>Df Model:</th>              <td>     1</td>      <th>                     </th>     <td> </td>   \n",
              "</tr>\n",
              "<tr>\n",
              "  <th>Covariance Type:</th>      <td>nonrobust</td>    <th>                     </th>     <td> </td>   \n",
              "</tr>\n",
              "</table>\n",
              "<table class=\"simpletable\">\n",
              "<tr>\n",
              "    <td></td>       <th>coef</th>     <th>std err</th>      <th>t</th>      <th>P>|t|</th>  <th>[0.025</th>    <th>0.975]</th>  \n",
              "</tr>\n",
              "<tr>\n",
              "  <th>const</th> <td>    6.9606</td> <td>    0.388</td> <td>   17.919</td> <td> 0.000</td> <td>    6.193</td> <td>    7.729</td>\n",
              "</tr>\n",
              "<tr>\n",
              "  <th>TV</th>    <td>    0.0558</td> <td>    0.002</td> <td>   24.745</td> <td> 0.000</td> <td>    0.051</td> <td>    0.060</td>\n",
              "</tr>\n",
              "</table>\n",
              "<table class=\"simpletable\">\n",
              "<tr>\n",
              "  <th>Omnibus:</th>       <td> 0.096</td> <th>  Durbin-Watson:     </th> <td>   1.921</td>\n",
              "</tr>\n",
              "<tr>\n",
              "  <th>Prob(Omnibus):</th> <td> 0.953</td> <th>  Jarque-Bera (JB):  </th> <td>   0.219</td>\n",
              "</tr>\n",
              "<tr>\n",
              "  <th>Skew:</th>          <td> 0.050</td> <th>  Prob(JB):          </th> <td>   0.896</td>\n",
              "</tr>\n",
              "<tr>\n",
              "  <th>Kurtosis:</th>      <td> 2.834</td> <th>  Cond. No.          </th> <td>    343.</td>\n",
              "</tr>\n",
              "</table><br/><br/>Notes:<br/>[1] Standard Errors assume that the covariance matrix of the errors is correctly specified."
            ],
            "text/plain": [
              "<class 'statsmodels.iolib.summary.Summary'>\n",
              "\"\"\"\n",
              "                            OLS Regression Results                            \n",
              "==============================================================================\n",
              "Dep. Variable:                  Sales   R-squared:                       0.816\n",
              "Model:                            OLS   Adj. R-squared:                  0.815\n",
              "Method:                 Least Squares   F-statistic:                     612.3\n",
              "Date:                Wed, 08 Sep 2021   Prob (F-statistic):           1.36e-52\n",
              "Time:                        13:31:28   Log-Likelihood:                -314.49\n",
              "No. Observations:                 140   AIC:                             633.0\n",
              "Df Residuals:                     138   BIC:                             638.9\n",
              "Df Model:                           1                                         \n",
              "Covariance Type:            nonrobust                                         \n",
              "==============================================================================\n",
              "                 coef    std err          t      P>|t|      [0.025      0.975]\n",
              "------------------------------------------------------------------------------\n",
              "const          6.9606      0.388     17.919      0.000       6.193       7.729\n",
              "TV             0.0558      0.002     24.745      0.000       0.051       0.060\n",
              "==============================================================================\n",
              "Omnibus:                        0.096   Durbin-Watson:                   1.921\n",
              "Prob(Omnibus):                  0.953   Jarque-Bera (JB):                0.219\n",
              "Skew:                           0.050   Prob(JB):                        0.896\n",
              "Kurtosis:                       2.834   Cond. No.                         343.\n",
              "==============================================================================\n",
              "\n",
              "Notes:\n",
              "[1] Standard Errors assume that the covariance matrix of the errors is correctly specified.\n",
              "\"\"\""
            ]
          },
          "execution_count": 106,
          "metadata": {},
          "output_type": "execute_result"
        }
      ],
      "source": [
        "# Performing a summary to list out all the different parameters of the regression line fitted\n",
        "lr.summary()"
      ],
      "id": "wur5jZVd6rKV"
    },
    {
      "cell_type": "code",
      "execution_count": null,
      "metadata": {
        "id": "nDu4kZSA6rKY"
      },
      "outputs": [],
      "source": [
        "#?sm.OLS"
      ],
      "id": "nDu4kZSA6rKY"
    },
    {
      "cell_type": "code",
      "execution_count": null,
      "metadata": {
        "id": "HA2aGGb26rKa",
        "outputId": "ba3ad061-996d-436a-e493-3e614a4149f3"
      },
      "outputs": [
        {
          "data": {
            "image/png": "[encoded data removed]",
            "text/plain": [
              "<Figure size 432x288 with 1 Axes>"
            ]
          },
          "metadata": {
            "needs_background": "light"
          },
          "output_type": "display_data"
        }
      ],
      "source": [
        "# Visualizing the regression line\n",
        "plt.scatter(X_train, y_train)\n",
        "plt.plot(X_train, lr.params[0] + lr.params[1]*X_train, 'r')\n",
        "plt.ylabel('Sales (Training)', fontsize=12)\n",
        "plt.xlabel('TV Advertisements (Training)', fontsize=12)\n",
        "plt.show()"
      ],
      "id": "HA2aGGb26rKa"
    },
    {
      "cell_type": "code",
      "execution_count": null,
      "metadata": {
        "id": "vTkzWWxE6rKc",
        "outputId": "26c93a89-2466-4c85-cfe8-08053bfb7d3e"
      },
      "outputs": [
        {
          "data": {
            "image/png": "[encoded data removed]",
            "text/plain": [
              "<Figure size 432x288 with 1 Axes>"
            ]
          },
          "metadata": {
            "needs_background": "light"
          },
          "output_type": "display_data"
        }
      ],
      "source": [
        "# Predicting y_value using traingn data of X\n",
        "y_train_pred = lr.predict(X_train_sm)\n",
        "\n",
        "# Creating residuals from the y_train data and predicted y_data\n",
        "res = (y_train - y_train_pred)\n",
        "\n",
        "# Visualizing the confidence interval\n",
        "from scipy import stats\n",
        "n = len(res)\n",
        "SSE = np.sum(res**2)\n",
        "MSE = SSE/(n-2)\n",
        "y_pred = lr.params[0] + lr.params[1]*X_train\n",
        "\n",
        "# Misc values\n",
        "t_fac = stats.t.ppf(1-0.025, 198)\n",
        "x_bar = np.mean(X_train)\n",
        "s_xx = np.sum((X_train-x_bar)**2)\n",
        "\n",
        "c_low_train = y_train_pred - t_fac*np.sqrt(MSE)*np.sqrt(1/n+(X_train-x_bar)**2/s_xx)\n",
        "c_up_train = y_train_pred + t_fac*np.sqrt(MSE)*np.sqrt(1/n+(X_train-x_bar)**2/s_xx)\n",
        "\n",
        "p_low_train = y_train_pred - t_fac*np.sqrt(MSE)*np.sqrt(1+1/n+(X_train-x_bar)**2/s_xx)\n",
        "p_up_train = y_train_pred + t_fac*np.sqrt(MSE)*np.sqrt(1+1/n+(X_train-x_bar)**2/s_xx)\n",
        "\n",
        "plt.scatter(X_train, y_train)\n",
        "plt.plot(X_train, y_train_pred, 'g')\n",
        "plt.plot(X_train, c_low_train, 'r-.')\n",
        "plt.plot(X_train, p_low_train, 'k-.')\n",
        "plt.ylabel('Sales (Training)', fontsize=12)\n",
        "plt.xlabel('TV Advertisements (Training)', fontsize=12)\n",
        "plt.legend(['Regression Line','95% CI', '95% PI','Observed'],fontsize=12)\n",
        "plt.plot(X_train, c_up_train, 'r-.')\n",
        "plt.plot(X_train, p_up_train, 'k-.')\n",
        "plt.show()"
      ],
      "id": "vTkzWWxE6rKc"
    },
    {
      "cell_type": "code",
      "execution_count": null,
      "metadata": {
        "id": "91LXTvtO6rKe",
        "outputId": "b8eb5f7e-0ebd-4a4a-d677-45c210ff0913"
      },
      "outputs": [
        {
          "data": {
            "text/html": [
              "<div>\n",
              "<style scoped>\n",
              "    .dataframe tbody tr th:only-of-type {\n",
              "        vertical-align: middle;\n",
              "    }\n",
              "\n",
              "    .dataframe tbody tr th {\n",
              "        vertical-align: top;\n",
              "    }\n",
              "\n",
              "    .dataframe thead th {\n",
              "        text-align: right;\n",
              "    }\n",
              "</style>\n",
              "<table border=\"1\" class=\"dataframe\">\n",
              "  <thead>\n",
              "    <tr style=\"text-align: right;\">\n",
              "      <th></th>\n",
              "      <th>Sales_y</th>\n",
              "      <th>TV_x</th>\n",
              "      <th>beta_0</th>\n",
              "      <th>beta_1</th>\n",
              "      <th>Sales_pred</th>\n",
              "      <th>t_multiplier</th>\n",
              "      <th>MSE</th>\n",
              "      <th>S_xx</th>\n",
              "      <th>Lower_CI_tail</th>\n",
              "      <th>Upper_CI_tail</th>\n",
              "      <th>Lower_PI_tail</th>\n",
              "      <th>Upper_PI_tail</th>\n",
              "    </tr>\n",
              "  </thead>\n",
              "  <tbody>\n",
              "    <tr>\n",
              "      <th>52</th>\n",
              "      <td>22.6</td>\n",
              "      <td>216.4</td>\n",
              "      <td>6.960597</td>\n",
              "      <td>0.055833</td>\n",
              "      <td>19.042884</td>\n",
              "      <td>1.972017</td>\n",
              "      <td>5.307875</td>\n",
              "      <td>1.042606e+06</td>\n",
              "      <td>18.555578</td>\n",
              "      <td>19.530190</td>\n",
              "      <td>14.473528</td>\n",
              "      <td>23.612240</td>\n",
              "    </tr>\n",
              "    <tr>\n",
              "      <th>183</th>\n",
              "      <td>26.2</td>\n",
              "      <td>287.6</td>\n",
              "      <td>6.960597</td>\n",
              "      <td>0.055833</td>\n",
              "      <td>23.018202</td>\n",
              "      <td>1.972017</td>\n",
              "      <td>5.307875</td>\n",
              "      <td>1.042606e+06</td>\n",
              "      <td>22.291605</td>\n",
              "      <td>23.744799</td>\n",
              "      <td>18.417171</td>\n",
              "      <td>27.619233</td>\n",
              "    </tr>\n",
              "    <tr>\n",
              "      <th>175</th>\n",
              "      <td>27.0</td>\n",
              "      <td>276.9</td>\n",
              "      <td>6.960597</td>\n",
              "      <td>0.055833</td>\n",
              "      <td>22.420788</td>\n",
              "      <td>1.972017</td>\n",
              "      <td>5.307875</td>\n",
              "      <td>1.042606e+06</td>\n",
              "      <td>21.734148</td>\n",
              "      <td>23.107427</td>\n",
              "      <td>17.825897</td>\n",
              "      <td>27.015678</td>\n",
              "    </tr>\n",
              "    <tr>\n",
              "      <th>193</th>\n",
              "      <td>19.6</td>\n",
              "      <td>166.8</td>\n",
              "      <td>6.960597</td>\n",
              "      <td>0.055833</td>\n",
              "      <td>16.273561</td>\n",
              "      <td>1.972017</td>\n",
              "      <td>5.307875</td>\n",
              "      <td>1.042606e+06</td>\n",
              "      <td>15.881469</td>\n",
              "      <td>16.665653</td>\n",
              "      <td>11.713377</td>\n",
              "      <td>20.833746</td>\n",
              "    </tr>\n",
              "    <tr>\n",
              "      <th>168</th>\n",
              "      <td>17.1</td>\n",
              "      <td>215.4</td>\n",
              "      <td>6.960597</td>\n",
              "      <td>0.055833</td>\n",
              "      <td>18.987051</td>\n",
              "      <td>1.972017</td>\n",
              "      <td>5.307875</td>\n",
              "      <td>1.042606e+06</td>\n",
              "      <td>18.502472</td>\n",
              "      <td>19.471630</td>\n",
              "      <td>14.417985</td>\n",
              "      <td>23.556117</td>\n",
              "    </tr>\n",
              "    <tr>\n",
              "      <th>...</th>\n",
              "      <td>...</td>\n",
              "      <td>...</td>\n",
              "      <td>...</td>\n",
              "      <td>...</td>\n",
              "      <td>...</td>\n",
              "      <td>...</td>\n",
              "      <td>...</td>\n",
              "      <td>...</td>\n",
              "      <td>...</td>\n",
              "      <td>...</td>\n",
              "      <td>...</td>\n",
              "      <td>...</td>\n",
              "    </tr>\n",
              "    <tr>\n",
              "      <th>190</th>\n",
              "      <td>10.8</td>\n",
              "      <td>39.5</td>\n",
              "      <td>6.960597</td>\n",
              "      <td>0.055833</td>\n",
              "      <td>9.166005</td>\n",
              "      <td>1.972017</td>\n",
              "      <td>5.307875</td>\n",
              "      <td>1.042606e+06</td>\n",
              "      <td>8.545781</td>\n",
              "      <td>9.786229</td>\n",
              "      <td>4.580569</td>\n",
              "      <td>13.751441</td>\n",
              "    </tr>\n",
              "    <tr>\n",
              "      <th>38</th>\n",
              "      <td>10.1</td>\n",
              "      <td>43.1</td>\n",
              "      <td>6.960597</td>\n",
              "      <td>0.055833</td>\n",
              "      <td>9.367004</td>\n",
              "      <td>1.972017</td>\n",
              "      <td>5.307875</td>\n",
              "      <td>1.042606e+06</td>\n",
              "      <td>8.759279</td>\n",
              "      <td>9.974729</td>\n",
              "      <td>4.783242</td>\n",
              "      <td>13.950766</td>\n",
              "    </tr>\n",
              "    <tr>\n",
              "      <th>22</th>\n",
              "      <td>5.6</td>\n",
              "      <td>13.2</td>\n",
              "      <td>6.960597</td>\n",
              "      <td>0.055833</td>\n",
              "      <td>7.697594</td>\n",
              "      <td>1.972017</td>\n",
              "      <td>5.307875</td>\n",
              "      <td>1.042606e+06</td>\n",
              "      <td>6.981795</td>\n",
              "      <td>8.413392</td>\n",
              "      <td>3.098255</td>\n",
              "      <td>12.296932</td>\n",
              "    </tr>\n",
              "    <tr>\n",
              "      <th>159</th>\n",
              "      <td>12.9</td>\n",
              "      <td>131.7</td>\n",
              "      <td>6.960597</td>\n",
              "      <td>0.055833</td>\n",
              "      <td>14.313819</td>\n",
              "      <td>1.972017</td>\n",
              "      <td>5.307875</td>\n",
              "      <td>1.042606e+06</td>\n",
              "      <td>13.922229</td>\n",
              "      <td>14.705408</td>\n",
              "      <td>9.753677</td>\n",
              "      <td>18.873960</td>\n",
              "    </tr>\n",
              "    <tr>\n",
              "      <th>147</th>\n",
              "      <td>25.4</td>\n",
              "      <td>243.2</td>\n",
              "      <td>6.960597</td>\n",
              "      <td>0.055833</td>\n",
              "      <td>20.539211</td>\n",
              "      <td>1.972017</td>\n",
              "      <td>5.307875</td>\n",
              "      <td>1.042606e+06</td>\n",
              "      <td>19.970665</td>\n",
              "      <td>21.107758</td>\n",
              "      <td>15.960479</td>\n",
              "      <td>25.117944</td>\n",
              "    </tr>\n",
              "  </tbody>\n",
              "</table>\n",
              "<p>140 rows × 12 columns</p>\n",
              "</div>"
            ],
            "text/plain": [
              "     Sales_y   TV_x    beta_0    beta_1  Sales_pred  t_multiplier       MSE  \\\n",
              "52      22.6  216.4  6.960597  0.055833   19.042884      1.972017  5.307875   \n",
              "183     26.2  287.6  6.960597  0.055833   23.018202      1.972017  5.307875   \n",
              "175     27.0  276.9  6.960597  0.055833   22.420788      1.972017  5.307875   \n",
              "193     19.6  166.8  6.960597  0.055833   16.273561      1.972017  5.307875   \n",
              "168     17.1  215.4  6.960597  0.055833   18.987051      1.972017  5.307875   \n",
              "..       ...    ...       ...       ...         ...           ...       ...   \n",
              "190     10.8   39.5  6.960597  0.055833    9.166005      1.972017  5.307875   \n",
              "38      10.1   43.1  6.960597  0.055833    9.367004      1.972017  5.307875   \n",
              "22       5.6   13.2  6.960597  0.055833    7.697594      1.972017  5.307875   \n",
              "159     12.9  131.7  6.960597  0.055833   14.313819      1.972017  5.307875   \n",
              "147     25.4  243.2  6.960597  0.055833   20.539211      1.972017  5.307875   \n",
              "\n",
              "             S_xx  Lower_CI_tail  Upper_CI_tail  Lower_PI_tail  Upper_PI_tail  \n",
              "52   1.042606e+06      18.555578      19.530190      14.473528      23.612240  \n",
              "183  1.042606e+06      22.291605      23.744799      18.417171      27.619233  \n",
              "175  1.042606e+06      21.734148      23.107427      17.825897      27.015678  \n",
              "193  1.042606e+06      15.881469      16.665653      11.713377      20.833746  \n",
              "168  1.042606e+06      18.502472      19.471630      14.417985      23.556117  \n",
              "..            ...            ...            ...            ...            ...  \n",
              "190  1.042606e+06       8.545781       9.786229       4.580569      13.751441  \n",
              "38   1.042606e+06       8.759279       9.974729       4.783242      13.950766  \n",
              "22   1.042606e+06       6.981795       8.413392       3.098255      12.296932  \n",
              "159  1.042606e+06      13.922229      14.705408       9.753677      18.873960  \n",
              "147  1.042606e+06      19.970665      21.107758      15.960479      25.117944  \n",
              "\n",
              "[140 rows x 12 columns]"
            ]
          },
          "execution_count": 133,
          "metadata": {},
          "output_type": "execute_result"
        }
      ],
      "source": [
        "PI_CI_df = pd.DataFrame()\n",
        "PI_CI_df['Sales_y'] = y_train\n",
        "PI_CI_df['TV_x'] = X_train\n",
        "PI_CI_df['beta_0'] = lr.params[0]\n",
        "PI_CI_df['beta_1'] = lr.params[1]\n",
        "PI_CI_df['Sales_pred'] = y_pred\n",
        "PI_CI_df['t_multiplier'] = stats.t.ppf(1-0.025, 198)\n",
        "PI_CI_df['MSE'] = MSE\n",
        "PI_CI_df['S_xx'] = s_xx\n",
        "PI_CI_df['Lower_CI_tail'] = c_low_train\n",
        "PI_CI_df['Upper_CI_tail'] = c_up_train\n",
        "PI_CI_df['Lower_PI_tail'] = p_low_train\n",
        "PI_CI_df['Upper_PI_tail'] = p_up_train\n",
        "PI_CI_df"
      ],
      "id": "91LXTvtO6rKe"
    },
    {
      "cell_type": "code",
      "execution_count": null,
      "metadata": {
        "id": "0y1dsjAw6rKh",
        "outputId": "d35671ed-3de0-440c-b70a-d7295c0a786c"
      },
      "outputs": [
        {
          "data": {
            "text/plain": [
              "0.4873057903849264"
            ]
          },
          "execution_count": 143,
          "metadata": {},
          "output_type": "execute_result"
        }
      ],
      "source": [
        "stats.t.ppf(1-0.025, 198)*np.sqrt(MSE)*np.sqrt(1/n+(X_train[52]-x_bar)**2/s_xx)"
      ],
      "id": "0y1dsjAw6rKh"
    },
    {
      "cell_type": "code",
      "execution_count": null,
      "metadata": {
        "id": "uk1QnQP36rKj",
        "outputId": "c7776b19-8fd7-474e-9b1c-2003915910f6"
      },
      "outputs": [
        {
          "data": {
            "text/plain": [
              "18.556"
            ]
          },
          "execution_count": 145,
          "metadata": {},
          "output_type": "execute_result"
        }
      ],
      "source": [
        "19.043-0.487"
      ],
      "id": "uk1QnQP36rKj"
    },
    {
      "cell_type": "code",
      "execution_count": null,
      "metadata": {
        "id": "hiVwEIhh6rKk",
        "outputId": "87d33279-9c26-45fe-cdf6-a657a3aa8fd3"
      },
      "outputs": [
        {
          "data": {
            "image/png": "[encoded data removed]",
            "text/plain": [
              "<Figure size 432x288 with 1 Axes>"
            ]
          },
          "metadata": {
            "needs_background": "light"
          },
          "output_type": "display_data"
        }
      ],
      "source": [
        "# Plotting the histogram using the residual values\n",
        "fig = plt.figure()\n",
        "sns.distplot(res, bins = 15, kde=True)\n",
        "plt.title('Error Terms', fontsize = 15)\n",
        "plt.xlabel('True_Sales - Predicted_Sales (Training)', fontsize = 12)\n",
        "plt.show()"
      ],
      "id": "hiVwEIhh6rKk"
    },
    {
      "cell_type": "code",
      "execution_count": null,
      "metadata": {
        "id": "qYGs2dug6rKm",
        "outputId": "a392b11d-fffa-4a08-a016-80b3baea0995"
      },
      "outputs": [
        {
          "data": {
            "image/png": "[encoded data removed]",
            "text/plain": [
              "<Figure size 432x288 with 1 Axes>"
            ]
          },
          "metadata": {
            "needs_background": "light"
          },
          "output_type": "display_data"
        }
      ],
      "source": [
        "# QQ-plot: Looking to see if the residuals follows a normal distribution using standardized normal dist quantiles\n",
        "sm.qqplot(res, line ='s')\n",
        "plt.title('QQ plot', fontsize=15)\n",
        "plt.show()"
      ],
      "id": "qYGs2dug6rKm"
    },
    {
      "cell_type": "code",
      "execution_count": null,
      "metadata": {
        "id": "RClpJLJR6rKn"
      },
      "outputs": [],
      "source": [
        "#?sm.qqplot"
      ],
      "id": "RClpJLJR6rKn"
    },
    {
      "cell_type": "code",
      "execution_count": null,
      "metadata": {
        "id": "4RiBrTfE6rKo"
      },
      "outputs": [],
      "source": [
        "#?sns.distplot"
      ],
      "id": "4RiBrTfE6rKo"
    },
    {
      "cell_type": "code",
      "execution_count": null,
      "metadata": {
        "id": "gTFQlxH96rKq",
        "outputId": "55737090-f674-4869-a6eb-52d243de44a5"
      },
      "outputs": [
        {
          "data": {
            "image/png": "[encoded data removed]",
            "text/plain": [
              "<Figure size 432x288 with 1 Axes>"
            ]
          },
          "metadata": {
            "needs_background": "light"
          },
          "output_type": "display_data"
        }
      ],
      "source": [
        "# Looking for any patterns in the residuals\n",
        "plt.scatter(X_train,res)\n",
        "plt.ylabel('Residuals')\n",
        "plt.xlabel('TV advertisements')\n",
        "plt.show()"
      ],
      "id": "gTFQlxH96rKq"
    },
    {
      "cell_type": "code",
      "execution_count": null,
      "metadata": {
        "id": "we9hIJ4D6rKr"
      },
      "outputs": [],
      "source": [
        "# Looking for any patterns in the residuals\n",
        "plt.scatter(X_train,res)\n",
        "plt.ylabel('Residuals')\n",
        "plt.xlabel('Sample number')\n",
        "plt.show()"
      ],
      "id": "we9hIJ4D6rKr"
    },
    {
      "cell_type": "code",
      "execution_count": null,
      "metadata": {
        "id": "DkG2yPiP6rKs"
      },
      "outputs": [],
      "source": [
        "#?plt.scatter"
      ],
      "id": "DkG2yPiP6rKs"
    },
    {
      "cell_type": "code",
      "execution_count": null,
      "metadata": {
        "id": "a5W6Js0Y6rKt",
        "outputId": "866bb392-4bb0-4d66-be24-c131b6fa3764"
      },
      "outputs": [
        {
          "data": {
            "text/plain": [
              "60      9.947669\n",
              "11     18.947968\n",
              "191    11.175997\n",
              "14     18.356136\n",
              "114    11.326747\n",
              "7      13.671738\n",
              "185    18.406386\n",
              "79     13.437239\n",
              "61     21.549791\n",
              "177    16.463394\n",
              "199    19.919464\n",
              "74     18.875384\n",
              "35     23.191285\n",
              "150    22.632954\n",
              "40     18.266803\n",
              "143    12.800741\n",
              "6      10.171001\n",
              "13     12.404326\n",
              "98     23.135452\n",
              "28     20.851877\n",
              "33     21.789873\n",
              "26     14.939150\n",
              "53     17.155724\n",
              "89     13.091073\n",
              "148     9.082255\n",
              "158     7.613844\n",
              "76      8.496007\n",
              "117    11.226247\n",
              "141    17.775472\n",
              "57     14.565068\n",
              "105    14.659984\n",
              "50     18.116054\n",
              "15     17.870388\n",
              "187    17.630306\n",
              "82     11.164831\n",
              "88     11.890661\n",
              "70     18.076971\n",
              "18     10.824249\n",
              "47     20.354962\n",
              "32     12.387576\n",
              "163    16.089312\n",
              "49     10.695832\n",
              "56      7.368178\n",
              "78      7.262095\n",
              "155     7.189512\n",
              "34     12.303826\n",
              "66      8.719340\n",
              "146    20.366129\n",
              "104    20.260046\n",
              "179    16.206561\n",
              "132     7.429595\n",
              "165    20.053463\n",
              "43     18.512469\n",
              "87     13.141323\n",
              "39     19.690548\n",
              "119     8.043759\n",
              "90     14.458985\n",
              "3      15.419314\n",
              "124    19.774298\n",
              "166     7.960009\n",
              "dtype: float64"
            ]
          },
          "execution_count": 102,
          "metadata": {},
          "output_type": "execute_result"
        }
      ],
      "source": [
        "\n",
        "# Adding a constant to X_test\n",
        "X_test_sm = sm.add_constant(X_test)\n",
        "\n",
        "# Predicting the y values corresponding to X_test_sm\n",
        "y_test_pred = lr.predict(X_test_sm)\n",
        "\n",
        "# Printing the first 15 predicted values\n",
        "y_test_pred"
      ],
      "id": "a5W6Js0Y6rKt"
    },
    {
      "cell_type": "code",
      "execution_count": null,
      "metadata": {
        "id": "2iInWSYo6rKv"
      },
      "outputs": [],
      "source": [
        "?lr.predict"
      ],
      "id": "2iInWSYo6rKv"
    },
    {
      "cell_type": "code",
      "execution_count": null,
      "metadata": {
        "id": "NRyiqNVe6rKv",
        "outputId": "bbeb40e6-87ee-4b03-b3b1-42dca3c10bbf"
      },
      "outputs": [
        {
          "data": {
            "text/plain": [
              "0.8006792589602305"
            ]
          },
          "execution_count": 104,
          "metadata": {},
          "output_type": "execute_result"
        }
      ],
      "source": [
        "# Importing r2_square\n",
        "from sklearn.metrics import r2_score\n",
        "\n",
        "# Checking the R-squared value\n",
        "r_squared = r2_score(y_test, y_test_pred)\n",
        "r_squared"
      ],
      "id": "NRyiqNVe6rKv"
    },
    {
      "cell_type": "code",
      "execution_count": null,
      "metadata": {
        "id": "bI1A8aL26rKw",
        "outputId": "12ce89fb-c6e4-423e-bf84-b5a7d848a5da"
      },
      "outputs": [
        {
          "data": {
            "image/png": "[encoded data removed]",
            "text/plain": [
              "<Figure size 432x288 with 1 Axes>"
            ]
          },
          "metadata": {
            "needs_background": "light"
          },
          "output_type": "display_data"
        }
      ],
      "source": [
        "# Visualize the line on the test set\n",
        "plt.scatter(X_test, y_test)\n",
        "plt.plot(X_test, y_test_pred, 'r')\n",
        "plt.xlabel('True Sales (Testing)')\n",
        "plt.ylabel('Predicted Sales (Testing)')\n",
        "plt.show()"
      ],
      "id": "bI1A8aL26rKw"
    },
    {
      "cell_type": "code",
      "execution_count": null,
      "metadata": {
        "id": "xYsS2BIy6rKx"
      },
      "outputs": [],
      "source": [],
      "id": "xYsS2BIy6rKx"
    }
  ],
  "metadata": {
    "kernelspec": {
      "display_name": "Python 3",
      "language": "python",
      "name": "python3"
    },
    "language_info": {
      "codemirror_mode": {
        "name": "ipython",
        "version": 3
      },
      "file_extension": ".py",
      "mimetype": "text/x-python",
      "name": "python",
      "nbconvert_exporter": "python",
      "pygments_lexer": "ipython3",
      "version": "3.8.3"
    },
    "colab": {
      "provenance": [],
      "include_colab_link": true
    }
  },
  "nbformat": 4,
  "nbformat_minor": 5
}