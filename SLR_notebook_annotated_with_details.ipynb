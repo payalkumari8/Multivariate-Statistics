{
  "cells": [
    {
      "cell_type": "markdown",
      "metadata": {
        "id": "view-in-github",
        "colab_type": "text"
      },
      "source": [
        "<a href=\"https://colab.research.google.com/github/payalkumari8/Multivariate-Statistics/blob/main/SLR_notebook_annotated_with_details.ipynb\" target=\"_parent\"><img src=\"https://colab.research.google.com/assets/colab-badge.svg\" alt=\"Open In Colab\"/></a>"
      ]
    },
    {
      "cell_type": "code",
      "execution_count": null,
      "id": "59233632",
      "metadata": {
        "scrolled": true,
        "id": "59233632",
        "outputId": "8cec18c0-69df-4c52-bb84-c3007c4a117f"
      },
      "outputs": [
        {
          "data": {
            "text/html": [
              "<div>\n",
              "<style scoped>\n",
              "    .dataframe tbody tr th:only-of-type {\n",
              "        vertical-align: middle;\n",
              "    }\n",
              "\n",
              "    .dataframe tbody tr th {\n",
              "        vertical-align: top;\n",
              "    }\n",
              "\n",
              "    .dataframe thead th {\n",
              "        text-align: right;\n",
              "    }\n",
              "</style>\n",
              "<table border=\"1\" class=\"dataframe\">\n",
              "  <thead>\n",
              "    <tr style=\"text-align: right;\">\n",
              "      <th></th>\n",
              "      <th>TV</th>\n",
              "      <th>Radio</th>\n",
              "      <th>Newspaper</th>\n",
              "      <th>Sales</th>\n",
              "    </tr>\n",
              "  </thead>\n",
              "  <tbody>\n",
              "    <tr>\n",
              "      <th>0</th>\n",
              "      <td>230.1</td>\n",
              "      <td>37.8</td>\n",
              "      <td>69.2</td>\n",
              "      <td>22.1</td>\n",
              "    </tr>\n",
              "    <tr>\n",
              "      <th>1</th>\n",
              "      <td>44.5</td>\n",
              "      <td>39.3</td>\n",
              "      <td>45.1</td>\n",
              "      <td>10.4</td>\n",
              "    </tr>\n",
              "    <tr>\n",
              "      <th>2</th>\n",
              "      <td>17.2</td>\n",
              "      <td>45.9</td>\n",
              "      <td>69.3</td>\n",
              "      <td>12.0</td>\n",
              "    </tr>\n",
              "    <tr>\n",
              "      <th>3</th>\n",
              "      <td>151.5</td>\n",
              "      <td>41.3</td>\n",
              "      <td>58.5</td>\n",
              "      <td>16.5</td>\n",
              "    </tr>\n",
              "    <tr>\n",
              "      <th>4</th>\n",
              "      <td>180.8</td>\n",
              "      <td>10.8</td>\n",
              "      <td>58.4</td>\n",
              "      <td>17.9</td>\n",
              "    </tr>\n",
              "    <tr>\n",
              "      <th>...</th>\n",
              "      <td>...</td>\n",
              "      <td>...</td>\n",
              "      <td>...</td>\n",
              "      <td>...</td>\n",
              "    </tr>\n",
              "    <tr>\n",
              "      <th>195</th>\n",
              "      <td>38.2</td>\n",
              "      <td>3.7</td>\n",
              "      <td>13.8</td>\n",
              "      <td>7.6</td>\n",
              "    </tr>\n",
              "    <tr>\n",
              "      <th>196</th>\n",
              "      <td>94.2</td>\n",
              "      <td>4.9</td>\n",
              "      <td>8.1</td>\n",
              "      <td>14.0</td>\n",
              "    </tr>\n",
              "    <tr>\n",
              "      <th>197</th>\n",
              "      <td>177.0</td>\n",
              "      <td>9.3</td>\n",
              "      <td>6.4</td>\n",
              "      <td>14.8</td>\n",
              "    </tr>\n",
              "    <tr>\n",
              "      <th>198</th>\n",
              "      <td>283.6</td>\n",
              "      <td>42.0</td>\n",
              "      <td>66.2</td>\n",
              "      <td>25.5</td>\n",
              "    </tr>\n",
              "    <tr>\n",
              "      <th>199</th>\n",
              "      <td>232.1</td>\n",
              "      <td>8.6</td>\n",
              "      <td>8.7</td>\n",
              "      <td>18.4</td>\n",
              "    </tr>\n",
              "  </tbody>\n",
              "</table>\n",
              "<p>200 rows × 4 columns</p>\n",
              "</div>"
            ],
            "text/plain": [
              "        TV  Radio  Newspaper  Sales\n",
              "0    230.1   37.8       69.2   22.1\n",
              "1     44.5   39.3       45.1   10.4\n",
              "2     17.2   45.9       69.3   12.0\n",
              "3    151.5   41.3       58.5   16.5\n",
              "4    180.8   10.8       58.4   17.9\n",
              "..     ...    ...        ...    ...\n",
              "195   38.2    3.7       13.8    7.6\n",
              "196   94.2    4.9        8.1   14.0\n",
              "197  177.0    9.3        6.4   14.8\n",
              "198  283.6   42.0       66.2   25.5\n",
              "199  232.1    8.6        8.7   18.4\n",
              "\n",
              "[200 rows x 4 columns]"
            ]
          },
          "execution_count": 1,
          "metadata": {},
          "output_type": "execute_result"
        }
      ],
      "source": [
        "# Importing numpy and pandas libraries to read the data\n",
        "\n",
        "# Supress Warnings\n",
        "import warnings\n",
        "warnings.filterwarnings('ignore')\n",
        "\n",
        "# Import the numpy and pandas package\n",
        "import numpy as np\n",
        "import pandas as pd\n",
        "\n",
        "# Read the given CSV file, and view some sample records\n",
        "advertising = pd.read_csv(\"Company_data.csv\")\n",
        "\n",
        "advertising\n",
        "\n",
        "# Sales in thousand units\n",
        "# Advertisement in thousand dollars"
      ]
    },
    {
      "cell_type": "code",
      "execution_count": null,
      "id": "0efc763f",
      "metadata": {
        "id": "0efc763f"
      },
      "outputs": [],
      "source": [
        "# Uncomment to learn more about pd.read_csv\n",
        "#?pd.read_csv"
      ]
    },
    {
      "cell_type": "code",
      "execution_count": null,
      "id": "a3e8e12e",
      "metadata": {
        "id": "a3e8e12e",
        "outputId": "101a980d-dcce-4fbb-f65f-7f7af8f86754"
      },
      "outputs": [
        {
          "name": "stdout",
          "output_type": "stream",
          "text": [
            "<class 'pandas.core.frame.DataFrame'>\n",
            "RangeIndex: 200 entries, 0 to 199\n",
            "Data columns (total 4 columns):\n",
            " #   Column     Non-Null Count  Dtype  \n",
            "---  ------     --------------  -----  \n",
            " 0   TV         200 non-null    float64\n",
            " 1   Radio      200 non-null    float64\n",
            " 2   Newspaper  200 non-null    float64\n",
            " 3   Sales      200 non-null    float64\n",
            "dtypes: float64(4)\n",
            "memory usage: 6.4 KB\n"
          ]
        },
        {
          "data": {
            "text/html": [
              "<div>\n",
              "<style scoped>\n",
              "    .dataframe tbody tr th:only-of-type {\n",
              "        vertical-align: middle;\n",
              "    }\n",
              "\n",
              "    .dataframe tbody tr th {\n",
              "        vertical-align: top;\n",
              "    }\n",
              "\n",
              "    .dataframe thead th {\n",
              "        text-align: right;\n",
              "    }\n",
              "</style>\n",
              "<table border=\"1\" class=\"dataframe\">\n",
              "  <thead>\n",
              "    <tr style=\"text-align: right;\">\n",
              "      <th></th>\n",
              "      <th>TV</th>\n",
              "      <th>Radio</th>\n",
              "      <th>Newspaper</th>\n",
              "      <th>Sales</th>\n",
              "    </tr>\n",
              "  </thead>\n",
              "  <tbody>\n",
              "    <tr>\n",
              "      <th>count</th>\n",
              "      <td>200.000000</td>\n",
              "      <td>200.000000</td>\n",
              "      <td>200.000000</td>\n",
              "      <td>200.000000</td>\n",
              "    </tr>\n",
              "    <tr>\n",
              "      <th>mean</th>\n",
              "      <td>147.042500</td>\n",
              "      <td>23.264000</td>\n",
              "      <td>30.554000</td>\n",
              "      <td>15.130500</td>\n",
              "    </tr>\n",
              "    <tr>\n",
              "      <th>std</th>\n",
              "      <td>85.854236</td>\n",
              "      <td>14.846809</td>\n",
              "      <td>21.778621</td>\n",
              "      <td>5.283892</td>\n",
              "    </tr>\n",
              "    <tr>\n",
              "      <th>min</th>\n",
              "      <td>0.700000</td>\n",
              "      <td>0.000000</td>\n",
              "      <td>0.300000</td>\n",
              "      <td>1.600000</td>\n",
              "    </tr>\n",
              "    <tr>\n",
              "      <th>25%</th>\n",
              "      <td>74.375000</td>\n",
              "      <td>9.975000</td>\n",
              "      <td>12.750000</td>\n",
              "      <td>11.000000</td>\n",
              "    </tr>\n",
              "    <tr>\n",
              "      <th>50%</th>\n",
              "      <td>149.750000</td>\n",
              "      <td>22.900000</td>\n",
              "      <td>25.750000</td>\n",
              "      <td>16.000000</td>\n",
              "    </tr>\n",
              "    <tr>\n",
              "      <th>75%</th>\n",
              "      <td>218.825000</td>\n",
              "      <td>36.525000</td>\n",
              "      <td>45.100000</td>\n",
              "      <td>19.050000</td>\n",
              "    </tr>\n",
              "    <tr>\n",
              "      <th>max</th>\n",
              "      <td>296.400000</td>\n",
              "      <td>49.600000</td>\n",
              "      <td>114.000000</td>\n",
              "      <td>27.000000</td>\n",
              "    </tr>\n",
              "  </tbody>\n",
              "</table>\n",
              "</div>"
            ],
            "text/plain": [
              "               TV       Radio   Newspaper       Sales\n",
              "count  200.000000  200.000000  200.000000  200.000000\n",
              "mean   147.042500   23.264000   30.554000   15.130500\n",
              "std     85.854236   14.846809   21.778621    5.283892\n",
              "min      0.700000    0.000000    0.300000    1.600000\n",
              "25%     74.375000    9.975000   12.750000   11.000000\n",
              "50%    149.750000   22.900000   25.750000   16.000000\n",
              "75%    218.825000   36.525000   45.100000   19.050000\n",
              "max    296.400000   49.600000  114.000000   27.000000"
            ]
          },
          "execution_count": 3,
          "metadata": {},
          "output_type": "execute_result"
        }
      ],
      "source": [
        "# Shape of our dataset\n",
        "advertising.shape\n",
        "\n",
        "# Info our dataset\n",
        "advertising.info()\n",
        "\n",
        "# Describe our dataset\n",
        "advertising.describe()"
      ]
    },
    {
      "cell_type": "code",
      "execution_count": null,
      "id": "58929792",
      "metadata": {
        "id": "58929792",
        "outputId": "2947f862-9441-44c3-ea09-8fd34a2b397a"
      },
      "outputs": [
        {
          "data": {
            "image/png": "[encoded data removed]",
            "text/plain": [
              "<Figure size 864x288 with 3 Axes>"
            ]
          },
          "metadata": {
            "needs_background": "light"
          },
          "output_type": "display_data"
        }
      ],
      "source": [
        "\n",
        "# Import matplotlib and seaborn libraries to visualize the data\n",
        "import matplotlib.pyplot as plt \n",
        "import seaborn as sns\n",
        "\n",
        "# Using pairplot we'll visualize the data for correlation\n",
        "sns.pairplot(advertising, x_vars=['TV', 'Radio','Newspaper'], \n",
        "             y_vars='Sales', size=4, aspect=1, kind='reg')\n",
        "#sns.pairplot(advertising, size=4, aspect=1, kind='scatter')\n",
        "plt.show()"
      ]
    },
    {
      "cell_type": "code",
      "execution_count": null,
      "id": "6cc57014",
      "metadata": {
        "id": "6cc57014"
      },
      "outputs": [],
      "source": [
        "?sns.pairplot"
      ]
    },
    {
      "cell_type": "code",
      "execution_count": null,
      "id": "555b7764",
      "metadata": {
        "id": "555b7764",
        "outputId": "941ab4a7-dc90-4723-f6ea-ab6b73948d6d"
      },
      "outputs": [
        {
          "data": {
            "image/png": "[encoded data removed]",
            "text/plain": [
              "<Figure size 432x288 with 2 Axes>"
            ]
          },
          "metadata": {
            "needs_background": "light"
          },
          "output_type": "display_data"
        }
      ],
      "source": [
        "\n",
        "# Visualizing the data using heatmap\n",
        "sns.heatmap(advertising.corr(), cmap=\"YlGnBu\", annot = True)\n",
        "plt.show()"
      ]
    },
    {
      "cell_type": "code",
      "execution_count": null,
      "id": "93820f33",
      "metadata": {
        "id": "93820f33"
      },
      "outputs": [],
      "source": [
        "# Creating X and y\n",
        "X = advertising['TV']\n",
        "y = advertising['Sales']"
      ]
    },
    {
      "cell_type": "code",
      "execution_count": null,
      "id": "936fd6d5",
      "metadata": {
        "id": "936fd6d5"
      },
      "outputs": [],
      "source": [
        "# Splitting the varaibles as training and testing\n",
        "# 140 samples for constructing beta_0 and beta_1\n",
        "# 60 samples as an additional evaluation performance measure (with R^2 and R^2_adj)\n",
        "from sklearn.model_selection import train_test_split\n",
        "X_train, X_test, y_train, y_test = train_test_split(X, y, train_size = 0.7, test_size = 0.3, random_state=1)"
      ]
    },
    {
      "cell_type": "code",
      "execution_count": null,
      "id": "6615a33d",
      "metadata": {
        "id": "6615a33d"
      },
      "outputs": [],
      "source": [
        "#?train_test_split"
      ]
    },
    {
      "cell_type": "code",
      "execution_count": null,
      "id": "99219e63",
      "metadata": {
        "id": "99219e63"
      },
      "outputs": [],
      "source": [
        "# Importing Statsmodels.api library from Stamodel package\n",
        "import statsmodels.api as sm\n",
        "\n",
        "# Adding a constant to get an intercept\n",
        "X_train_sm = sm.add_constant(X_train)"
      ]
    },
    {
      "cell_type": "code",
      "execution_count": null,
      "id": "99b06901",
      "metadata": {
        "id": "99b06901",
        "outputId": "875e762e-e4a1-4dfb-b791-f476d64dc906"
      },
      "outputs": [
        {
          "data": {
            "text/plain": [
              "const    6.904032\n",
              "TV       0.055661\n",
              "dtype: float64"
            ]
          },
          "execution_count": 11,
          "metadata": {},
          "output_type": "execute_result"
        }
      ],
      "source": [
        "X_train_sm\n",
        "\n",
        "# Fitting the resgression line using 'OLS'\n",
        "lr = sm.OLS(y_train,X_train_sm).fit()\n",
        "\n",
        "# Printing the parameters\n",
        "lr.params\n",
        "\n",
        "# y = beta_0*1 + beta_1*x"
      ]
    },
    {
      "cell_type": "code",
      "execution_count": null,
      "id": "6c657502",
      "metadata": {
        "id": "6c657502",
        "outputId": "1c459126-ec2f-426c-be58-de915685f320"
      },
      "outputs": [
        {
          "data": {
            "text/html": [
              "<div>\n",
              "<style scoped>\n",
              "    .dataframe tbody tr th:only-of-type {\n",
              "        vertical-align: middle;\n",
              "    }\n",
              "\n",
              "    .dataframe tbody tr th {\n",
              "        vertical-align: top;\n",
              "    }\n",
              "\n",
              "    .dataframe thead th {\n",
              "        text-align: right;\n",
              "    }\n",
              "</style>\n",
              "<table border=\"1\" class=\"dataframe\">\n",
              "  <thead>\n",
              "    <tr style=\"text-align: right;\">\n",
              "      <th></th>\n",
              "      <th>X</th>\n",
              "      <th>Y</th>\n",
              "      <th>beta_0</th>\n",
              "      <th>beta_1</th>\n",
              "      <th>beta_1*X</th>\n",
              "      <th>Y_hat</th>\n",
              "      <th>Res</th>\n",
              "      <th>Res_squared</th>\n",
              "      <th>MSE</th>\n",
              "    </tr>\n",
              "  </thead>\n",
              "  <tbody>\n",
              "    <tr>\n",
              "      <th>116</th>\n",
              "      <td>139.2</td>\n",
              "      <td>12.2</td>\n",
              "      <td>6.904032</td>\n",
              "      <td>0.055661</td>\n",
              "      <td>7.747978</td>\n",
              "      <td>14.652011</td>\n",
              "      <td>-2.452011</td>\n",
              "      <td>6.012357</td>\n",
              "      <td>5.328579</td>\n",
              "    </tr>\n",
              "    <tr>\n",
              "      <th>67</th>\n",
              "      <td>139.3</td>\n",
              "      <td>13.4</td>\n",
              "      <td>6.904032</td>\n",
              "      <td>0.055661</td>\n",
              "      <td>7.753544</td>\n",
              "      <td>14.657577</td>\n",
              "      <td>-1.257577</td>\n",
              "      <td>1.581500</td>\n",
              "      <td>5.328579</td>\n",
              "    </tr>\n",
              "    <tr>\n",
              "      <th>78</th>\n",
              "      <td>5.4</td>\n",
              "      <td>5.3</td>\n",
              "      <td>6.904032</td>\n",
              "      <td>0.055661</td>\n",
              "      <td>0.300568</td>\n",
              "      <td>7.204601</td>\n",
              "      <td>-1.904601</td>\n",
              "      <td>3.627503</td>\n",
              "      <td>5.328579</td>\n",
              "    </tr>\n",
              "    <tr>\n",
              "      <th>42</th>\n",
              "      <td>293.6</td>\n",
              "      <td>20.7</td>\n",
              "      <td>6.904032</td>\n",
              "      <td>0.055661</td>\n",
              "      <td>16.342000</td>\n",
              "      <td>23.246033</td>\n",
              "      <td>-2.546033</td>\n",
              "      <td>6.482282</td>\n",
              "      <td>5.328579</td>\n",
              "    </tr>\n",
              "    <tr>\n",
              "      <th>17</th>\n",
              "      <td>281.4</td>\n",
              "      <td>24.4</td>\n",
              "      <td>6.904032</td>\n",
              "      <td>0.055661</td>\n",
              "      <td>15.662939</td>\n",
              "      <td>22.566971</td>\n",
              "      <td>1.833029</td>\n",
              "      <td>3.359994</td>\n",
              "      <td>5.328579</td>\n",
              "    </tr>\n",
              "    <tr>\n",
              "      <th>...</th>\n",
              "      <td>...</td>\n",
              "      <td>...</td>\n",
              "      <td>...</td>\n",
              "      <td>...</td>\n",
              "      <td>...</td>\n",
              "      <td>...</td>\n",
              "      <td>...</td>\n",
              "      <td>...</td>\n",
              "      <td>...</td>\n",
              "    </tr>\n",
              "    <tr>\n",
              "      <th>133</th>\n",
              "      <td>219.8</td>\n",
              "      <td>19.6</td>\n",
              "      <td>6.904032</td>\n",
              "      <td>0.055661</td>\n",
              "      <td>12.234236</td>\n",
              "      <td>19.138268</td>\n",
              "      <td>0.461732</td>\n",
              "      <td>0.213196</td>\n",
              "      <td>5.328579</td>\n",
              "    </tr>\n",
              "    <tr>\n",
              "      <th>137</th>\n",
              "      <td>273.7</td>\n",
              "      <td>20.8</td>\n",
              "      <td>6.904032</td>\n",
              "      <td>0.055661</td>\n",
              "      <td>15.234351</td>\n",
              "      <td>22.138383</td>\n",
              "      <td>-1.338383</td>\n",
              "      <td>1.791270</td>\n",
              "      <td>5.328579</td>\n",
              "    </tr>\n",
              "    <tr>\n",
              "      <th>72</th>\n",
              "      <td>26.8</td>\n",
              "      <td>8.8</td>\n",
              "      <td>6.904032</td>\n",
              "      <td>0.055661</td>\n",
              "      <td>1.491708</td>\n",
              "      <td>8.395741</td>\n",
              "      <td>0.404259</td>\n",
              "      <td>0.163425</td>\n",
              "      <td>5.328579</td>\n",
              "    </tr>\n",
              "    <tr>\n",
              "      <th>140</th>\n",
              "      <td>73.4</td>\n",
              "      <td>10.9</td>\n",
              "      <td>6.904032</td>\n",
              "      <td>0.055661</td>\n",
              "      <td>4.085500</td>\n",
              "      <td>10.989533</td>\n",
              "      <td>-0.089533</td>\n",
              "      <td>0.008016</td>\n",
              "      <td>5.328579</td>\n",
              "    </tr>\n",
              "    <tr>\n",
              "      <th>37</th>\n",
              "      <td>74.7</td>\n",
              "      <td>14.7</td>\n",
              "      <td>6.904032</td>\n",
              "      <td>0.055661</td>\n",
              "      <td>4.157859</td>\n",
              "      <td>11.061892</td>\n",
              "      <td>3.638108</td>\n",
              "      <td>13.235833</td>\n",
              "      <td>5.328579</td>\n",
              "    </tr>\n",
              "  </tbody>\n",
              "</table>\n",
              "<p>140 rows × 9 columns</p>\n",
              "</div>"
            ],
            "text/plain": [
              "         X     Y    beta_0    beta_1   beta_1*X      Y_hat       Res  \\\n",
              "116  139.2  12.2  6.904032  0.055661   7.747978  14.652011 -2.452011   \n",
              "67   139.3  13.4  6.904032  0.055661   7.753544  14.657577 -1.257577   \n",
              "78     5.4   5.3  6.904032  0.055661   0.300568   7.204601 -1.904601   \n",
              "42   293.6  20.7  6.904032  0.055661  16.342000  23.246033 -2.546033   \n",
              "17   281.4  24.4  6.904032  0.055661  15.662939  22.566971  1.833029   \n",
              "..     ...   ...       ...       ...        ...        ...       ...   \n",
              "133  219.8  19.6  6.904032  0.055661  12.234236  19.138268  0.461732   \n",
              "137  273.7  20.8  6.904032  0.055661  15.234351  22.138383 -1.338383   \n",
              "72    26.8   8.8  6.904032  0.055661   1.491708   8.395741  0.404259   \n",
              "140   73.4  10.9  6.904032  0.055661   4.085500  10.989533 -0.089533   \n",
              "37    74.7  14.7  6.904032  0.055661   4.157859  11.061892  3.638108   \n",
              "\n",
              "     Res_squared       MSE  \n",
              "116     6.012357  5.328579  \n",
              "67      1.581500  5.328579  \n",
              "78      3.627503  5.328579  \n",
              "42      6.482282  5.328579  \n",
              "17      3.359994  5.328579  \n",
              "..           ...       ...  \n",
              "133     0.213196  5.328579  \n",
              "137     1.791270  5.328579  \n",
              "72      0.163425  5.328579  \n",
              "140     0.008016  5.328579  \n",
              "37     13.235833  5.328579  \n",
              "\n",
              "[140 rows x 9 columns]"
            ]
          },
          "execution_count": 12,
          "metadata": {},
          "output_type": "execute_result"
        }
      ],
      "source": [
        "beta_0 = lr.params[0]\n",
        "beta_1 = lr.params[1]\n",
        "\n",
        "y_pred = beta_0*1 + beta_1*X_train\n",
        "\n",
        "df = pd.DataFrame()\n",
        "\n",
        "df['X'] = X_train\n",
        "df['Y'] = y_train\n",
        "df['beta_0'] = beta_0\n",
        "df['beta_1'] = beta_1\n",
        "df['beta_1*X'] = beta_1*X_train\n",
        "df['Y_hat'] = y_pred\n",
        "df['Res'] = y_train-y_pred\n",
        "df['Res_squared'] = (y_train-y_pred)**2 \n",
        "n_train = len(X_train)\n",
        "df['MSE'] = np.sum((y_train-y_pred)**2)/(n_train-2)\n",
        "df"
      ]
    },
    {
      "cell_type": "code",
      "execution_count": null,
      "id": "2a797b86",
      "metadata": {
        "id": "2a797b86",
        "outputId": "92f6b71b-6d8b-44e2-aa12-7f731724c435"
      },
      "outputs": [
        {
          "data": {
            "text/html": [
              "<table class=\"simpletable\">\n",
              "<caption>OLS Regression Results</caption>\n",
              "<tr>\n",
              "  <th>Dep. Variable:</th>          <td>Sales</td>      <th>  R-squared:         </th> <td>   0.816</td>\n",
              "</tr>\n",
              "<tr>\n",
              "  <th>Model:</th>                   <td>OLS</td>       <th>  Adj. R-squared:    </th> <td>   0.814</td>\n",
              "</tr>\n",
              "<tr>\n",
              "  <th>Method:</th>             <td>Least Squares</td>  <th>  F-statistic:       </th> <td>   610.3</td>\n",
              "</tr>\n",
              "<tr>\n",
              "  <th>Date:</th>             <td>Wed, 15 Sep 2021</td> <th>  Prob (F-statistic):</th> <td>1.64e-52</td>\n",
              "</tr>\n",
              "<tr>\n",
              "  <th>Time:</th>                 <td>16:22:26</td>     <th>  Log-Likelihood:    </th> <td> -314.76</td>\n",
              "</tr>\n",
              "<tr>\n",
              "  <th>No. Observations:</th>      <td>   140</td>      <th>  AIC:               </th> <td>   633.5</td>\n",
              "</tr>\n",
              "<tr>\n",
              "  <th>Df Residuals:</th>          <td>   138</td>      <th>  BIC:               </th> <td>   639.4</td>\n",
              "</tr>\n",
              "<tr>\n",
              "  <th>Df Model:</th>              <td>     1</td>      <th>                     </th>     <td> </td>   \n",
              "</tr>\n",
              "<tr>\n",
              "  <th>Covariance Type:</th>      <td>nonrobust</td>    <th>                     </th>     <td> </td>   \n",
              "</tr>\n",
              "</table>\n",
              "<table class=\"simpletable\">\n",
              "<tr>\n",
              "    <td></td>       <th>coef</th>     <th>std err</th>      <th>t</th>      <th>P>|t|</th>  <th>[0.025</th>    <th>0.975]</th>  \n",
              "</tr>\n",
              "<tr>\n",
              "  <th>const</th> <td>    6.9040</td> <td>    0.376</td> <td>   18.356</td> <td> 0.000</td> <td>    6.160</td> <td>    7.648</td>\n",
              "</tr>\n",
              "<tr>\n",
              "  <th>TV</th>    <td>    0.0557</td> <td>    0.002</td> <td>   24.704</td> <td> 0.000</td> <td>    0.051</td> <td>    0.060</td>\n",
              "</tr>\n",
              "</table>\n",
              "<table class=\"simpletable\">\n",
              "<tr>\n",
              "  <th>Omnibus:</th>       <td> 0.409</td> <th>  Durbin-Watson:     </th> <td>   2.033</td>\n",
              "</tr>\n",
              "<tr>\n",
              "  <th>Prob(Omnibus):</th> <td> 0.815</td> <th>  Jarque-Bera (JB):  </th> <td>   0.165</td>\n",
              "</tr>\n",
              "<tr>\n",
              "  <th>Skew:</th>          <td>-0.062</td> <th>  Prob(JB):          </th> <td>   0.921</td>\n",
              "</tr>\n",
              "<tr>\n",
              "  <th>Kurtosis:</th>      <td> 3.114</td> <th>  Cond. No.          </th> <td>    322.</td>\n",
              "</tr>\n",
              "</table><br/><br/>Notes:<br/>[1] Standard Errors assume that the covariance matrix of the errors is correctly specified."
            ],
            "text/plain": [
              "<class 'statsmodels.iolib.summary.Summary'>\n",
              "\"\"\"\n",
              "                            OLS Regression Results                            \n",
              "==============================================================================\n",
              "Dep. Variable:                  Sales   R-squared:                       0.816\n",
              "Model:                            OLS   Adj. R-squared:                  0.814\n",
              "Method:                 Least Squares   F-statistic:                     610.3\n",
              "Date:                Wed, 15 Sep 2021   Prob (F-statistic):           1.64e-52\n",
              "Time:                        16:22:26   Log-Likelihood:                -314.76\n",
              "No. Observations:                 140   AIC:                             633.5\n",
              "Df Residuals:                     138   BIC:                             639.4\n",
              "Df Model:                           1                                         \n",
              "Covariance Type:            nonrobust                                         \n",
              "==============================================================================\n",
              "                 coef    std err          t      P>|t|      [0.025      0.975]\n",
              "------------------------------------------------------------------------------\n",
              "const          6.9040      0.376     18.356      0.000       6.160       7.648\n",
              "TV             0.0557      0.002     24.704      0.000       0.051       0.060\n",
              "==============================================================================\n",
              "Omnibus:                        0.409   Durbin-Watson:                   2.033\n",
              "Prob(Omnibus):                  0.815   Jarque-Bera (JB):                0.165\n",
              "Skew:                          -0.062   Prob(JB):                        0.921\n",
              "Kurtosis:                       3.114   Cond. No.                         322.\n",
              "==============================================================================\n",
              "\n",
              "Notes:\n",
              "[1] Standard Errors assume that the covariance matrix of the errors is correctly specified.\n",
              "\"\"\""
            ]
          },
          "execution_count": 13,
          "metadata": {},
          "output_type": "execute_result"
        }
      ],
      "source": [
        "# Performing a summary to list out all the different parameters of the regression line fitted\n",
        "lr.summary()"
      ]
    },
    {
      "cell_type": "code",
      "execution_count": null,
      "id": "5c11870d",
      "metadata": {
        "id": "5c11870d"
      },
      "outputs": [],
      "source": [
        "#?sm.OLS"
      ]
    },
    {
      "cell_type": "code",
      "execution_count": null,
      "id": "5873b196",
      "metadata": {
        "id": "5873b196",
        "outputId": "b4bbe0f0-4e1c-48fd-ede8-92e6d8b44e14"
      },
      "outputs": [
        {
          "data": {
            "image/png": "[encoded data removed]",
            "text/plain": [
              "<Figure size 432x288 with 1 Axes>"
            ]
          },
          "metadata": {
            "needs_background": "light"
          },
          "output_type": "display_data"
        }
      ],
      "source": [
        "# Visualizing the regression line\n",
        "plt.scatter(X_train, y_train)\n",
        "plt.plot(X_train, lr.params[0] + lr.params[1]*X_train, 'r')\n",
        "plt.ylabel('Sales (Training)', fontsize=12)\n",
        "plt.xlabel('TV Advertisements (Training)', fontsize=12)\n",
        "plt.show()"
      ]
    },
    {
      "cell_type": "code",
      "execution_count": null,
      "id": "b8dee844",
      "metadata": {
        "id": "b8dee844",
        "outputId": "f0566f9c-3c21-4abc-a5e1-45b8bba8101b"
      },
      "outputs": [
        {
          "data": {
            "image/png": "[encoded data removed]",
            "text/plain": [
              "<Figure size 432x288 with 1 Axes>"
            ]
          },
          "metadata": {
            "needs_background": "light"
          },
          "output_type": "display_data"
        }
      ],
      "source": [
        "# Predicting y_value using traingn data of X\n",
        "y_train_pred = lr.predict(X_train_sm)\n",
        "\n",
        "# Creating residuals from the y_train data and predicted y_data\n",
        "res = (y_train - y_train_pred)\n",
        "\n",
        "# Visualizing the confidence interval\n",
        "from scipy import stats\n",
        "n = len(res)\n",
        "SSE = np.sum(res**2)\n",
        "MSE = SSE/(n-2)\n",
        "y_pred = lr.params[0] + lr.params[1]*X_train\n",
        "\n",
        "# Misc values\n",
        "t_fac = stats.t.ppf(1-0.025, 138)\n",
        "x_bar = np.mean(X_train)\n",
        "s_xx = np.sum((X_train-x_bar)**2)\n",
        "\n",
        "c_low_train = y_train_pred - t_fac*np.sqrt(MSE)*np.sqrt(1/n+(X_train-x_bar)**2/s_xx)\n",
        "c_up_train = y_train_pred + t_fac*np.sqrt(MSE)*np.sqrt(1/n+(X_train-x_bar)**2/s_xx)\n",
        "\n",
        "p_low_train = y_train_pred - t_fac*np.sqrt(MSE)*np.sqrt(1+1/n+(X_train-x_bar)**2/s_xx)\n",
        "p_up_train = y_train_pred + t_fac*np.sqrt(MSE)*np.sqrt(1+1/n+(X_train-x_bar)**2/s_xx)\n",
        "\n",
        "plt.scatter(X_train, y_train)\n",
        "plt.plot(X_train, y_train_pred, 'g')\n",
        "plt.plot(X_train, c_low_train, 'r-.')\n",
        "plt.plot(X_train, p_low_train, 'k-.')\n",
        "plt.ylabel('Sales (Training)', fontsize=12)\n",
        "plt.xlabel('TV Advertisements (Training)', fontsize=12)\n",
        "plt.legend(['Regression Line','95% CI', '95% PI','Observed'],fontsize=12)\n",
        "plt.plot(X_train, c_up_train, 'r-.')\n",
        "plt.plot(X_train, p_up_train, 'k-.')\n",
        "plt.show()"
      ]
    },
    {
      "cell_type": "code",
      "execution_count": null,
      "id": "2095146b",
      "metadata": {
        "id": "2095146b",
        "outputId": "9a65f762-84d7-422c-ad95-1d86554e565e"
      },
      "outputs": [
        {
          "data": {
            "text/html": [
              "<div>\n",
              "<style scoped>\n",
              "    .dataframe tbody tr th:only-of-type {\n",
              "        vertical-align: middle;\n",
              "    }\n",
              "\n",
              "    .dataframe tbody tr th {\n",
              "        vertical-align: top;\n",
              "    }\n",
              "\n",
              "    .dataframe thead th {\n",
              "        text-align: right;\n",
              "    }\n",
              "</style>\n",
              "<table border=\"1\" class=\"dataframe\">\n",
              "  <thead>\n",
              "    <tr style=\"text-align: right;\">\n",
              "      <th></th>\n",
              "      <th>Sales_y</th>\n",
              "      <th>TV_x</th>\n",
              "      <th>beta_0</th>\n",
              "      <th>beta_1</th>\n",
              "      <th>Sales_pred</th>\n",
              "      <th>t_multiplier</th>\n",
              "      <th>MSE</th>\n",
              "      <th>S_xx</th>\n",
              "      <th>Lower_CI_tail</th>\n",
              "      <th>Upper_CI_tail</th>\n",
              "      <th>Lower_PI_tail</th>\n",
              "      <th>Upper_PI_tail</th>\n",
              "    </tr>\n",
              "  </thead>\n",
              "  <tbody>\n",
              "    <tr>\n",
              "      <th>116</th>\n",
              "      <td>12.2</td>\n",
              "      <td>139.2</td>\n",
              "      <td>6.904032</td>\n",
              "      <td>0.055661</td>\n",
              "      <td>14.652011</td>\n",
              "      <td>1.977304</td>\n",
              "      <td>5.328579</td>\n",
              "      <td>1.049670e+06</td>\n",
              "      <td>14.265934</td>\n",
              "      <td>15.038087</td>\n",
              "      <td>10.071361</td>\n",
              "      <td>19.232661</td>\n",
              "    </tr>\n",
              "    <tr>\n",
              "      <th>67</th>\n",
              "      <td>13.4</td>\n",
              "      <td>139.3</td>\n",
              "      <td>6.904032</td>\n",
              "      <td>0.055661</td>\n",
              "      <td>14.657577</td>\n",
              "      <td>1.977304</td>\n",
              "      <td>5.328579</td>\n",
              "      <td>1.049670e+06</td>\n",
              "      <td>14.271518</td>\n",
              "      <td>15.043635</td>\n",
              "      <td>10.076928</td>\n",
              "      <td>19.238226</td>\n",
              "    </tr>\n",
              "    <tr>\n",
              "      <th>78</th>\n",
              "      <td>5.3</td>\n",
              "      <td>5.4</td>\n",
              "      <td>6.904032</td>\n",
              "      <td>0.055661</td>\n",
              "      <td>7.204601</td>\n",
              "      <td>1.977304</td>\n",
              "      <td>5.328579</td>\n",
              "      <td>1.049670e+06</td>\n",
              "      <td>6.481371</td>\n",
              "      <td>7.927830</td>\n",
              "      <td>2.583306</td>\n",
              "      <td>11.825895</td>\n",
              "    </tr>\n",
              "    <tr>\n",
              "      <th>42</th>\n",
              "      <td>20.7</td>\n",
              "      <td>293.6</td>\n",
              "      <td>6.904032</td>\n",
              "      <td>0.055661</td>\n",
              "      <td>23.246033</td>\n",
              "      <td>1.977304</td>\n",
              "      <td>5.328579</td>\n",
              "      <td>1.049670e+06</td>\n",
              "      <td>22.471022</td>\n",
              "      <td>24.021043</td>\n",
              "      <td>18.616352</td>\n",
              "      <td>27.875713</td>\n",
              "    </tr>\n",
              "    <tr>\n",
              "      <th>17</th>\n",
              "      <td>24.4</td>\n",
              "      <td>281.4</td>\n",
              "      <td>6.904032</td>\n",
              "      <td>0.055661</td>\n",
              "      <td>22.566971</td>\n",
              "      <td>1.977304</td>\n",
              "      <td>5.328579</td>\n",
              "      <td>1.049670e+06</td>\n",
              "      <td>21.838599</td>\n",
              "      <td>23.295344</td>\n",
              "      <td>17.944869</td>\n",
              "      <td>27.189073</td>\n",
              "    </tr>\n",
              "    <tr>\n",
              "      <th>...</th>\n",
              "      <td>...</td>\n",
              "      <td>...</td>\n",
              "      <td>...</td>\n",
              "      <td>...</td>\n",
              "      <td>...</td>\n",
              "      <td>...</td>\n",
              "      <td>...</td>\n",
              "      <td>...</td>\n",
              "      <td>...</td>\n",
              "      <td>...</td>\n",
              "      <td>...</td>\n",
              "      <td>...</td>\n",
              "    </tr>\n",
              "    <tr>\n",
              "      <th>133</th>\n",
              "      <td>19.6</td>\n",
              "      <td>219.8</td>\n",
              "      <td>6.904032</td>\n",
              "      <td>0.055661</td>\n",
              "      <td>19.138268</td>\n",
              "      <td>1.977304</td>\n",
              "      <td>5.328579</td>\n",
              "      <td>1.049670e+06</td>\n",
              "      <td>18.621805</td>\n",
              "      <td>19.654731</td>\n",
              "      <td>14.544791</td>\n",
              "      <td>23.731746</td>\n",
              "    </tr>\n",
              "    <tr>\n",
              "      <th>137</th>\n",
              "      <td>20.8</td>\n",
              "      <td>273.7</td>\n",
              "      <td>6.904032</td>\n",
              "      <td>0.055661</td>\n",
              "      <td>22.138383</td>\n",
              "      <td>1.977304</td>\n",
              "      <td>5.328579</td>\n",
              "      <td>1.049670e+06</td>\n",
              "      <td>21.438873</td>\n",
              "      <td>22.837894</td>\n",
              "      <td>17.520742</td>\n",
              "      <td>26.756025</td>\n",
              "    </tr>\n",
              "    <tr>\n",
              "      <th>72</th>\n",
              "      <td>8.8</td>\n",
              "      <td>26.8</td>\n",
              "      <td>6.904032</td>\n",
              "      <td>0.055661</td>\n",
              "      <td>8.395741</td>\n",
              "      <td>1.977304</td>\n",
              "      <td>5.328579</td>\n",
              "      <td>1.049670e+06</td>\n",
              "      <td>7.751146</td>\n",
              "      <td>9.040335</td>\n",
              "      <td>3.786099</td>\n",
              "      <td>13.005383</td>\n",
              "    </tr>\n",
              "    <tr>\n",
              "      <th>140</th>\n",
              "      <td>10.9</td>\n",
              "      <td>73.4</td>\n",
              "      <td>6.904032</td>\n",
              "      <td>0.055661</td>\n",
              "      <td>10.989533</td>\n",
              "      <td>1.977304</td>\n",
              "      <td>5.328579</td>\n",
              "      <td>1.049670e+06</td>\n",
              "      <td>10.495389</td>\n",
              "      <td>11.483676</td>\n",
              "      <td>6.398511</td>\n",
              "      <td>15.580554</td>\n",
              "    </tr>\n",
              "    <tr>\n",
              "      <th>37</th>\n",
              "      <td>14.7</td>\n",
              "      <td>74.7</td>\n",
              "      <td>6.904032</td>\n",
              "      <td>0.055661</td>\n",
              "      <td>11.061892</td>\n",
              "      <td>1.977304</td>\n",
              "      <td>5.328579</td>\n",
              "      <td>1.049670e+06</td>\n",
              "      <td>10.571347</td>\n",
              "      <td>11.552436</td>\n",
              "      <td>6.471256</td>\n",
              "      <td>15.652527</td>\n",
              "    </tr>\n",
              "  </tbody>\n",
              "</table>\n",
              "<p>140 rows × 12 columns</p>\n",
              "</div>"
            ],
            "text/plain": [
              "     Sales_y   TV_x    beta_0    beta_1  Sales_pred  t_multiplier       MSE  \\\n",
              "116     12.2  139.2  6.904032  0.055661   14.652011      1.977304  5.328579   \n",
              "67      13.4  139.3  6.904032  0.055661   14.657577      1.977304  5.328579   \n",
              "78       5.3    5.4  6.904032  0.055661    7.204601      1.977304  5.328579   \n",
              "42      20.7  293.6  6.904032  0.055661   23.246033      1.977304  5.328579   \n",
              "17      24.4  281.4  6.904032  0.055661   22.566971      1.977304  5.328579   \n",
              "..       ...    ...       ...       ...         ...           ...       ...   \n",
              "133     19.6  219.8  6.904032  0.055661   19.138268      1.977304  5.328579   \n",
              "137     20.8  273.7  6.904032  0.055661   22.138383      1.977304  5.328579   \n",
              "72       8.8   26.8  6.904032  0.055661    8.395741      1.977304  5.328579   \n",
              "140     10.9   73.4  6.904032  0.055661   10.989533      1.977304  5.328579   \n",
              "37      14.7   74.7  6.904032  0.055661   11.061892      1.977304  5.328579   \n",
              "\n",
              "             S_xx  Lower_CI_tail  Upper_CI_tail  Lower_PI_tail  Upper_PI_tail  \n",
              "116  1.049670e+06      14.265934      15.038087      10.071361      19.232661  \n",
              "67   1.049670e+06      14.271518      15.043635      10.076928      19.238226  \n",
              "78   1.049670e+06       6.481371       7.927830       2.583306      11.825895  \n",
              "42   1.049670e+06      22.471022      24.021043      18.616352      27.875713  \n",
              "17   1.049670e+06      21.838599      23.295344      17.944869      27.189073  \n",
              "..            ...            ...            ...            ...            ...  \n",
              "133  1.049670e+06      18.621805      19.654731      14.544791      23.731746  \n",
              "137  1.049670e+06      21.438873      22.837894      17.520742      26.756025  \n",
              "72   1.049670e+06       7.751146       9.040335       3.786099      13.005383  \n",
              "140  1.049670e+06      10.495389      11.483676       6.398511      15.580554  \n",
              "37   1.049670e+06      10.571347      11.552436       6.471256      15.652527  \n",
              "\n",
              "[140 rows x 12 columns]"
            ]
          },
          "execution_count": 17,
          "metadata": {},
          "output_type": "execute_result"
        }
      ],
      "source": [
        "PI_CI_df = pd.DataFrame()\n",
        "PI_CI_df['Sales_y'] = y_train\n",
        "PI_CI_df['TV_x'] = X_train\n",
        "PI_CI_df['beta_0'] = lr.params[0]\n",
        "PI_CI_df['beta_1'] = lr.params[1]\n",
        "PI_CI_df['Sales_pred'] = y_pred\n",
        "PI_CI_df['t_multiplier'] = stats.t.ppf(1-0.025, 138)\n",
        "PI_CI_df['MSE'] = MSE\n",
        "PI_CI_df['S_xx'] = s_xx\n",
        "PI_CI_df['Lower_CI_tail'] = c_low_train\n",
        "PI_CI_df['Upper_CI_tail'] = c_up_train\n",
        "PI_CI_df['Lower_PI_tail'] = p_low_train\n",
        "PI_CI_df['Upper_PI_tail'] = p_up_train\n",
        "PI_CI_df"
      ]
    },
    {
      "cell_type": "code",
      "execution_count": null,
      "id": "72a88564",
      "metadata": {
        "id": "72a88564",
        "outputId": "2731006d-78af-4f4e-b87c-e464c1b50ce4"
      },
      "outputs": [
        {
          "data": {
            "text/plain": [
              "0.3860764313170518"
            ]
          },
          "execution_count": 18,
          "metadata": {},
          "output_type": "execute_result"
        }
      ],
      "source": [
        "stats.t.ppf(1-0.025, 138)*np.sqrt(MSE)*np.sqrt(1/n+(X_train[116]-x_bar)**2/s_xx)"
      ]
    },
    {
      "cell_type": "code",
      "execution_count": null,
      "id": "9e75e258",
      "metadata": {
        "id": "9e75e258",
        "outputId": "11bf9b73-fc79-451f-b20a-5dc3d8f8f58a"
      },
      "outputs": [
        {
          "name": "stdout",
          "output_type": "stream",
          "text": [
            "138.0\n",
            "10.57134679135253\n",
            "11.552436239747978\n",
            "6.471255933323007\n",
            "15.6525270977775\n"
          ]
        }
      ],
      "source": [
        "#t_factor = 1.997\n",
        "t_factor = stats.t.ppf(1-0.025, 138)\n",
        "#sigma_e_2 = 5.329\n",
        "print(200*0.7-2)\n",
        "sigma_e_2 = np.sum(res**2)/138\n",
        "x_bar = np.mean(X_train)\n",
        "\n",
        "#y_hat + t_mul*sqrt(sigma_e_2*(1/n + num/den))\n",
        "#x_h = X_train[37]\n",
        "x_h = 74.7\n",
        "num = (x_h-x_bar)**2\n",
        "den = np.sum((X_train-x_bar)**2)\n",
        "\n",
        "CI_lower = beta_0*1 + beta_1*x_h - t_factor*np.sqrt(sigma_e_2*(1/n+num/den))\n",
        "CI_upper = beta_0*1 + beta_1*x_h + t_factor*np.sqrt(sigma_e_2*(1/n+num/den))\n",
        "\n",
        "PI_lower = beta_0*1 + beta_1*x_h - t_factor*np.sqrt(sigma_e_2*(1+1/n+num/den))\n",
        "PI_upper = beta_0*1 + beta_1*x_h + t_factor*np.sqrt(sigma_e_2*(1+1/n+num/den))\n",
        "\n",
        "print(CI_lower)\n",
        "print(CI_upper)\n",
        "\n",
        "print(PI_lower)\n",
        "print(PI_upper)\n"
      ]
    },
    {
      "cell_type": "code",
      "execution_count": null,
      "id": "63359a3a",
      "metadata": {
        "id": "63359a3a",
        "outputId": "44fe316d-a923-4be4-87df-5dd493d91aab"
      },
      "outputs": [
        {
          "data": {
            "text/plain": [
              "18.556"
            ]
          },
          "execution_count": 20,
          "metadata": {},
          "output_type": "execute_result"
        }
      ],
      "source": [
        "19.043-0.487"
      ]
    },
    {
      "cell_type": "code",
      "execution_count": null,
      "id": "6df849f1",
      "metadata": {
        "id": "6df849f1",
        "outputId": "cce42f5a-827d-4cc8-d069-fe9eb4cbfa8f"
      },
      "outputs": [
        {
          "data": {
            "image/png": "[encoded data removed]",
            "text/plain": [
              "<Figure size 432x288 with 1 Axes>"
            ]
          },
          "metadata": {
            "needs_background": "light"
          },
          "output_type": "display_data"
        }
      ],
      "source": [
        "# Plotting the histogram using the residual values\n",
        "fig = plt.figure()\n",
        "sns.distplot(res, bins = int(np.sqrt(n_train)), kde=True)\n",
        "plt.title('Error Terms', fontsize = 15)\n",
        "plt.xlabel('True_Sales - Predicted_Sales (Training)', fontsize = 12)\n",
        "plt.show()"
      ]
    },
    {
      "cell_type": "code",
      "execution_count": null,
      "id": "e9cbd7b9",
      "metadata": {
        "id": "e9cbd7b9",
        "outputId": "546191be-a809-4602-db3c-add8fdd288be"
      },
      "outputs": [
        {
          "data": {
            "image/png": "[encoded data removed]",
            "text/plain": [
              "<Figure size 432x288 with 1 Axes>"
            ]
          },
          "metadata": {
            "needs_background": "light"
          },
          "output_type": "display_data"
        }
      ],
      "source": [
        "# QQ-plot: Looking to see if the residuals follows a normal distribution using standardized normal dist quantiles\n",
        "sm.qqplot(res, line ='s')\n",
        "plt.title('QQ plot', fontsize=15)\n",
        "plt.show()"
      ]
    },
    {
      "cell_type": "code",
      "execution_count": null,
      "id": "5f10c6eb",
      "metadata": {
        "id": "5f10c6eb"
      },
      "outputs": [],
      "source": [
        "#?sm.qqplot"
      ]
    },
    {
      "cell_type": "code",
      "execution_count": null,
      "id": "b24c974b",
      "metadata": {
        "id": "b24c974b"
      },
      "outputs": [],
      "source": [
        "#?sns.distplot"
      ]
    },
    {
      "cell_type": "code",
      "execution_count": null,
      "id": "e46db634",
      "metadata": {
        "id": "e46db634",
        "outputId": "21258484-073a-4fdf-e790-7bbb9a5e7b9e"
      },
      "outputs": [
        {
          "data": {
            "image/png": "[encoded data removed]",
            "text/plain": [
              "<Figure size 432x288 with 1 Axes>"
            ]
          },
          "metadata": {
            "needs_background": "light"
          },
          "output_type": "display_data"
        }
      ],
      "source": [
        "# Looking for any patterns in the residuals\n",
        "plt.scatter(X_train,res)\n",
        "plt.ylabel('Residuals')\n",
        "plt.xlabel('TV advertisements')\n",
        "plt.show()"
      ]
    },
    {
      "cell_type": "code",
      "execution_count": null,
      "id": "8b48ff86",
      "metadata": {
        "id": "8b48ff86",
        "outputId": "515456e8-c723-4804-d248-5409686890c0"
      },
      "outputs": [
        {
          "data": {
            "image/png": "[encoded data removed]",
            "text/plain": [
              "<Figure size 432x288 with 1 Axes>"
            ]
          },
          "metadata": {
            "needs_background": "light"
          },
          "output_type": "display_data"
        }
      ],
      "source": [
        "# Looking for any patterns in the residuals\n",
        "plt.scatter(X_train,res)\n",
        "plt.ylabel('Residuals')\n",
        "plt.xlabel('Sample number')\n",
        "plt.show()"
      ]
    },
    {
      "cell_type": "code",
      "execution_count": null,
      "id": "73f31fed",
      "metadata": {
        "id": "73f31fed"
      },
      "outputs": [],
      "source": [
        "#?plt.scatter"
      ]
    },
    {
      "cell_type": "code",
      "execution_count": null,
      "id": "5342e925",
      "metadata": {
        "id": "5342e925",
        "outputId": "3b378fa3-0958-431f-b472-89cafc379cf1"
      },
      "outputs": [
        {
          "data": {
            "text/plain": [
              "58     18.637321\n",
              "40     18.175337\n",
              "34     12.230768\n",
              "102    22.500178\n",
              "184    21.030734\n",
              "198    22.689425\n",
              "95     15.993435\n",
              "4      16.967499\n",
              "29     10.833682\n",
              "168    18.893361\n",
              "171    16.060228\n",
              "18     10.755757\n",
              "11     18.854398\n",
              "89     13.015584\n",
              "110    19.472233\n",
              "118    13.900590\n",
              "159    14.234555\n",
              "35     23.084616\n",
              "136     8.328948\n",
              "59     18.631755\n",
              "51     12.492373\n",
              "16     10.677832\n",
              "44      8.301118\n",
              "94     12.881998\n",
              "31     13.188133\n",
              "162    17.390520\n",
              "38      9.303011\n",
              "28     20.752430\n",
              "193    16.188248\n",
              "27     20.268182\n",
              "47     20.257050\n",
              "165    19.956482\n",
              "194    15.236449\n",
              "177    16.377494\n",
              "176    20.730166\n",
              "97     17.195708\n",
              "174    19.282986\n",
              "73     14.106535\n",
              "69     18.971286\n",
              "172     7.994983\n",
              "108     7.633188\n",
              "107    11.935766\n",
              "189     7.944889\n",
              "14     18.264394\n",
              "56      7.310356\n",
              "19     15.102863\n",
              "114    11.256704\n",
              "39     19.594687\n",
              "185    18.314489\n",
              "124    19.678178\n",
              "98     23.028956\n",
              "123    13.755872\n",
              "119     7.983851\n",
              "53     17.067688\n",
              "33     21.687531\n",
              "179    16.121455\n",
              "181    19.065909\n",
              "106     8.295552\n",
              "199    19.822896\n",
              "138     9.297445\n",
              "dtype: float64"
            ]
          },
          "execution_count": 28,
          "metadata": {},
          "output_type": "execute_result"
        }
      ],
      "source": [
        "\n",
        "# Adding a constant to X_test\n",
        "X_test_sm = sm.add_constant(X_test)\n",
        "\n",
        "# Predicting the y values corresponding to X_test_sm\n",
        "y_test_pred = lr.predict(X_test_sm)\n",
        "\n",
        "# Printing the first 15 predicted values\n",
        "y_test_pred"
      ]
    },
    {
      "cell_type": "code",
      "execution_count": null,
      "id": "427ffbe5",
      "metadata": {
        "id": "427ffbe5"
      },
      "outputs": [],
      "source": [
        "?lr.predict"
      ]
    },
    {
      "cell_type": "code",
      "execution_count": null,
      "id": "a753c11a",
      "metadata": {
        "id": "a753c11a",
        "outputId": "d45a29bc-fa17-4b97-df12-3fc5a13547fd"
      },
      "outputs": [
        {
          "name": "stdout",
          "output_type": "stream",
          "text": [
            "0.7984701565892567\n",
            "0.7949955041166576\n"
          ]
        },
        {
          "data": {
            "text/plain": [
              "0.7984701565892567"
            ]
          },
          "execution_count": 30,
          "metadata": {},
          "output_type": "execute_result"
        }
      ],
      "source": [
        "# Importing r2_square\n",
        "from sklearn.metrics import r2_score\n",
        "\n",
        "res_test = y_test-y_test_pred\n",
        "SST = np.sum((y_test - np.mean(y_test))**2)\n",
        "SSE = np.sum(res_test**2)\n",
        "r_squared_manual = 1-SSE/SST\n",
        "print(r_squared_manual)\n",
        "n_test = len(y_test)\n",
        "MSE = SSE/(n_test-2)\n",
        "MST = SST/(n_test-1)\n",
        "r_squared_adjusted = 1-MSE/MST\n",
        "print(r_squared_adjusted)\n",
        "# Checking the R-squared value\n",
        "r_squared = r2_score(y_test, y_test_pred)\n",
        "r_squared"
      ]
    },
    {
      "cell_type": "code",
      "execution_count": null,
      "id": "9b1ea31b",
      "metadata": {
        "id": "9b1ea31b",
        "outputId": "469d9c4c-c667-4147-d339-26d4c49e4614"
      },
      "outputs": [
        {
          "data": {
            "image/png": "[encoded data removed]",
            "text/plain": [
              "<Figure size 432x288 with 1 Axes>"
            ]
          },
          "metadata": {
            "needs_background": "light"
          },
          "output_type": "display_data"
        }
      ],
      "source": [
        "# Visualize the line on the test set\n",
        "plt.scatter(X_test, y_test)\n",
        "plt.plot(X_test, y_test_pred, 'r')\n",
        "plt.xlabel('True Sales (Testing)')\n",
        "plt.ylabel('Predicted Sales (Testing)')\n",
        "plt.show()"
      ]
    },
    {
      "cell_type": "code",
      "execution_count": null,
      "id": "d1c16828",
      "metadata": {
        "id": "d1c16828"
      },
      "outputs": [],
      "source": []
    }
  ],
  "metadata": {
    "kernelspec": {
      "display_name": "Python 3",
      "language": "python",
      "name": "python3"
    },
    "language_info": {
      "codemirror_mode": {
        "name": "ipython",
        "version": 3
      },
      "file_extension": ".py",
      "mimetype": "text/x-python",
      "name": "python",
      "nbconvert_exporter": "python",
      "pygments_lexer": "ipython3",
      "version": "3.6.13"
    },
    "colab": {
      "provenance": [],
      "include_colab_link": true
    }
  },
  "nbformat": 4,
  "nbformat_minor": 5
}