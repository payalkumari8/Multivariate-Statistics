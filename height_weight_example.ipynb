{
  "cells": [
    {
      "cell_type": "markdown",
      "metadata": {
        "id": "view-in-github",
        "colab_type": "text"
      },
      "source": [
        "<a href=\"https://colab.research.google.com/github/payalkumari8/Multivariate-Statistics/blob/main/height_weight_example.ipynb\" target=\"_parent\"><img src=\"https://colab.research.google.com/assets/colab-badge.svg\" alt=\"Open In Colab\"/></a>"
      ]
    },
    {
      "cell_type": "code",
      "execution_count": null,
      "id": "fc84133e",
      "metadata": {
        "id": "fc84133e"
      },
      "outputs": [],
      "source": [
        "# Import the numpy and pandas package\n",
        "import numpy as np\n",
        "import pandas as pd\n",
        "\n",
        "# Import matplotlib and seaborn libraries to visualize the data\n",
        "import matplotlib.pyplot as plt \n",
        "import seaborn as sns"
      ]
    },
    {
      "cell_type": "code",
      "execution_count": null,
      "id": "8ba0da47",
      "metadata": {
        "id": "8ba0da47"
      },
      "outputs": [],
      "source": [
        "# Student (Height and Weight)\n",
        "h = np.array([63,64,66,69,69,71,71,72,73,75])\n",
        "w = np.array([127,121,142,157,162,156,169,165,181,208])"
      ]
    },
    {
      "cell_type": "code",
      "execution_count": null,
      "id": "86eea146",
      "metadata": {
        "id": "86eea146",
        "outputId": "f99ca9dd-f34d-460a-e19f-0eb6a2204b2b"
      },
      "outputs": [
        {
          "data": {
            "image/png": "[encoded data removed]",
            "text/plain": [
              "<Figure size 432x288 with 1 Axes>"
            ]
          },
          "metadata": {
            "needs_background": "light"
          },
          "output_type": "display_data"
        }
      ],
      "source": [
        "w_line_1 = -330 + 7*h\n",
        "w_line_2 = -266 + 6.1*h\n",
        "\n",
        "# Visualizing the regression line\n",
        "plt.scatter(h, w)\n",
        "plt.plot(h, w_line_1, 'r')\n",
        "plt.plot(h, w_line_2, 'g--')\n",
        "plt.ylabel('Weight (Training)', fontsize=15)\n",
        "plt.xlabel('Height (Training)', fontsize=15)\n",
        "plt.legend(['w=-330+7h','w=-266+6.1h','Observed'],fontsize=15)\n",
        "\n",
        "plt.show()"
      ]
    },
    {
      "cell_type": "code",
      "execution_count": null,
      "id": "cb3f7e53",
      "metadata": {
        "id": "cb3f7e53",
        "outputId": "b1b31a6b-b557-4dc6-e8cb-9ec76a0186d2"
      },
      "outputs": [
        {
          "data": {
            "text/html": [
              "<div>\n",
              "<style scoped>\n",
              "    .dataframe tbody tr th:only-of-type {\n",
              "        vertical-align: middle;\n",
              "    }\n",
              "\n",
              "    .dataframe tbody tr th {\n",
              "        vertical-align: top;\n",
              "    }\n",
              "\n",
              "    .dataframe thead th {\n",
              "        text-align: right;\n",
              "    }\n",
              "</style>\n",
              "<table border=\"1\" class=\"dataframe\">\n",
              "  <thead>\n",
              "    <tr style=\"text-align: right;\">\n",
              "      <th></th>\n",
              "      <th>w</th>\n",
              "      <th>h</th>\n",
              "      <th>w_hat</th>\n",
              "      <th>error</th>\n",
              "      <th>error_squared</th>\n",
              "    </tr>\n",
              "  </thead>\n",
              "  <tbody>\n",
              "    <tr>\n",
              "      <th>0</th>\n",
              "      <td>127</td>\n",
              "      <td>63</td>\n",
              "      <td>111</td>\n",
              "      <td>16</td>\n",
              "      <td>256</td>\n",
              "    </tr>\n",
              "    <tr>\n",
              "      <th>1</th>\n",
              "      <td>121</td>\n",
              "      <td>64</td>\n",
              "      <td>118</td>\n",
              "      <td>3</td>\n",
              "      <td>9</td>\n",
              "    </tr>\n",
              "    <tr>\n",
              "      <th>2</th>\n",
              "      <td>142</td>\n",
              "      <td>66</td>\n",
              "      <td>132</td>\n",
              "      <td>10</td>\n",
              "      <td>100</td>\n",
              "    </tr>\n",
              "    <tr>\n",
              "      <th>3</th>\n",
              "      <td>157</td>\n",
              "      <td>69</td>\n",
              "      <td>153</td>\n",
              "      <td>4</td>\n",
              "      <td>16</td>\n",
              "    </tr>\n",
              "    <tr>\n",
              "      <th>4</th>\n",
              "      <td>162</td>\n",
              "      <td>69</td>\n",
              "      <td>153</td>\n",
              "      <td>9</td>\n",
              "      <td>81</td>\n",
              "    </tr>\n",
              "    <tr>\n",
              "      <th>5</th>\n",
              "      <td>156</td>\n",
              "      <td>71</td>\n",
              "      <td>167</td>\n",
              "      <td>-11</td>\n",
              "      <td>121</td>\n",
              "    </tr>\n",
              "    <tr>\n",
              "      <th>6</th>\n",
              "      <td>169</td>\n",
              "      <td>71</td>\n",
              "      <td>167</td>\n",
              "      <td>2</td>\n",
              "      <td>4</td>\n",
              "    </tr>\n",
              "    <tr>\n",
              "      <th>7</th>\n",
              "      <td>165</td>\n",
              "      <td>72</td>\n",
              "      <td>174</td>\n",
              "      <td>-9</td>\n",
              "      <td>81</td>\n",
              "    </tr>\n",
              "    <tr>\n",
              "      <th>8</th>\n",
              "      <td>181</td>\n",
              "      <td>73</td>\n",
              "      <td>181</td>\n",
              "      <td>0</td>\n",
              "      <td>0</td>\n",
              "    </tr>\n",
              "    <tr>\n",
              "      <th>9</th>\n",
              "      <td>208</td>\n",
              "      <td>75</td>\n",
              "      <td>195</td>\n",
              "      <td>13</td>\n",
              "      <td>169</td>\n",
              "    </tr>\n",
              "  </tbody>\n",
              "</table>\n",
              "</div>"
            ],
            "text/plain": [
              "     w   h  w_hat  error  error_squared\n",
              "0  127  63    111     16            256\n",
              "1  121  64    118      3              9\n",
              "2  142  66    132     10            100\n",
              "3  157  69    153      4             16\n",
              "4  162  69    153      9             81\n",
              "5  156  71    167    -11            121\n",
              "6  169  71    167      2              4\n",
              "7  165  72    174     -9             81\n",
              "8  181  73    181      0              0\n",
              "9  208  75    195     13            169"
            ]
          },
          "execution_count": 34,
          "metadata": {},
          "output_type": "execute_result"
        }
      ],
      "source": [
        "df_1 = pd.DataFrame()\n",
        "df_1['w'] = w\n",
        "df_1['h'] = h\n",
        "df_1['w_hat'] = w_line_1\n",
        "\n",
        "res = w-w_line_1\n",
        "df_1['error'] = res\n",
        "df_1['error_squared'] = res**2\n",
        "\n",
        "df_1"
      ]
    },
    {
      "cell_type": "code",
      "execution_count": null,
      "id": "c0cd02f2",
      "metadata": {
        "id": "c0cd02f2",
        "outputId": "95abc1a1-cb88-4cdc-a25d-c75e74bb54ea"
      },
      "outputs": [
        {
          "data": {
            "text/plain": [
              "37"
            ]
          },
          "execution_count": 36,
          "metadata": {},
          "output_type": "execute_result"
        }
      ],
      "source": [
        "#np.sum(res)\n",
        "#np.sum(res**2)\n",
        "#np.var(res)"
      ]
    },
    {
      "cell_type": "code",
      "execution_count": null,
      "id": "86e636a9",
      "metadata": {
        "id": "86e636a9",
        "outputId": "8e445713-fcc8-43d7-f164-18570ea2efba"
      },
      "outputs": [
        {
          "data": {
            "text/html": [
              "<div>\n",
              "<style scoped>\n",
              "    .dataframe tbody tr th:only-of-type {\n",
              "        vertical-align: middle;\n",
              "    }\n",
              "\n",
              "    .dataframe tbody tr th {\n",
              "        vertical-align: top;\n",
              "    }\n",
              "\n",
              "    .dataframe thead th {\n",
              "        text-align: right;\n",
              "    }\n",
              "</style>\n",
              "<table border=\"1\" class=\"dataframe\">\n",
              "  <thead>\n",
              "    <tr style=\"text-align: right;\">\n",
              "      <th></th>\n",
              "      <th>w</th>\n",
              "      <th>h</th>\n",
              "      <th>w_hat</th>\n",
              "      <th>error</th>\n",
              "      <th>error_squared</th>\n",
              "    </tr>\n",
              "  </thead>\n",
              "  <tbody>\n",
              "    <tr>\n",
              "      <th>0</th>\n",
              "      <td>127</td>\n",
              "      <td>63</td>\n",
              "      <td>118.3</td>\n",
              "      <td>8.7</td>\n",
              "      <td>75.69</td>\n",
              "    </tr>\n",
              "    <tr>\n",
              "      <th>1</th>\n",
              "      <td>121</td>\n",
              "      <td>64</td>\n",
              "      <td>124.4</td>\n",
              "      <td>-3.4</td>\n",
              "      <td>11.56</td>\n",
              "    </tr>\n",
              "    <tr>\n",
              "      <th>2</th>\n",
              "      <td>142</td>\n",
              "      <td>66</td>\n",
              "      <td>136.6</td>\n",
              "      <td>5.4</td>\n",
              "      <td>29.16</td>\n",
              "    </tr>\n",
              "    <tr>\n",
              "      <th>3</th>\n",
              "      <td>157</td>\n",
              "      <td>69</td>\n",
              "      <td>154.9</td>\n",
              "      <td>2.1</td>\n",
              "      <td>4.41</td>\n",
              "    </tr>\n",
              "    <tr>\n",
              "      <th>4</th>\n",
              "      <td>162</td>\n",
              "      <td>69</td>\n",
              "      <td>154.9</td>\n",
              "      <td>7.1</td>\n",
              "      <td>50.41</td>\n",
              "    </tr>\n",
              "    <tr>\n",
              "      <th>5</th>\n",
              "      <td>156</td>\n",
              "      <td>71</td>\n",
              "      <td>167.1</td>\n",
              "      <td>-11.1</td>\n",
              "      <td>123.21</td>\n",
              "    </tr>\n",
              "    <tr>\n",
              "      <th>6</th>\n",
              "      <td>169</td>\n",
              "      <td>71</td>\n",
              "      <td>167.1</td>\n",
              "      <td>1.9</td>\n",
              "      <td>3.61</td>\n",
              "    </tr>\n",
              "    <tr>\n",
              "      <th>7</th>\n",
              "      <td>165</td>\n",
              "      <td>72</td>\n",
              "      <td>173.2</td>\n",
              "      <td>-8.2</td>\n",
              "      <td>67.24</td>\n",
              "    </tr>\n",
              "    <tr>\n",
              "      <th>8</th>\n",
              "      <td>181</td>\n",
              "      <td>73</td>\n",
              "      <td>179.3</td>\n",
              "      <td>1.7</td>\n",
              "      <td>2.89</td>\n",
              "    </tr>\n",
              "    <tr>\n",
              "      <th>9</th>\n",
              "      <td>208</td>\n",
              "      <td>75</td>\n",
              "      <td>191.5</td>\n",
              "      <td>16.5</td>\n",
              "      <td>272.25</td>\n",
              "    </tr>\n",
              "  </tbody>\n",
              "</table>\n",
              "</div>"
            ],
            "text/plain": [
              "     w   h  w_hat  error  error_squared\n",
              "0  127  63  118.3    8.7          75.69\n",
              "1  121  64  124.4   -3.4          11.56\n",
              "2  142  66  136.6    5.4          29.16\n",
              "3  157  69  154.9    2.1           4.41\n",
              "4  162  69  154.9    7.1          50.41\n",
              "5  156  71  167.1  -11.1         123.21\n",
              "6  169  71  167.1    1.9           3.61\n",
              "7  165  72  173.2   -8.2          67.24\n",
              "8  181  73  179.3    1.7           2.89\n",
              "9  208  75  191.5   16.5         272.25"
            ]
          },
          "execution_count": 27,
          "metadata": {},
          "output_type": "execute_result"
        }
      ],
      "source": [
        "df_2 = pd.DataFrame()\n",
        "df_2['w'] = w\n",
        "df_2['h'] = h\n",
        "df_2['w_hat'] = w_line_2\n",
        "\n",
        "res = w-w_line_2\n",
        "df_2['error'] = res\n",
        "df_2['error_squared'] = res**2\n",
        "\n",
        "df_2"
      ]
    },
    {
      "cell_type": "code",
      "execution_count": null,
      "id": "e74d14a6",
      "metadata": {
        "id": "e74d14a6"
      },
      "outputs": [],
      "source": [
        "#np.sum(res)\n",
        "#np.sum(res**2)\n",
        "#np.var(res)"
      ]
    },
    {
      "cell_type": "code",
      "execution_count": null,
      "id": "5a511a5c",
      "metadata": {
        "id": "5a511a5c",
        "outputId": "89861024-2d73-4a55-e918-e00c510d092d"
      },
      "outputs": [
        {
          "data": {
            "image/png": "[encoded data removed]",
            "text/plain": [
              "<Figure size 432x288 with 1 Axes>"
            ]
          },
          "metadata": {
            "needs_background": "light"
          },
          "output_type": "display_data"
        }
      ],
      "source": [
        "# Manual OLS\n",
        "x_bar = np.mean(h)\n",
        "y_bar = np.mean(w)\n",
        "\n",
        "sum_x_y = np.sum(h*w)\n",
        "sum_x_x = np.sum(h*h)\n",
        "n = len(h)\n",
        "\n",
        "beta_1 = (sum_x_y-x_bar*y_bar*n)/(sum_x_x-n*x_bar*x_bar)\n",
        "beta_0 = y_bar - beta_1*x_bar\n",
        "\n",
        "w_line_opt = beta_0 + beta_1*h\n",
        "\n",
        "# Visualizing the regression line\n",
        "plt.scatter(h, w)\n",
        "plt.plot(h, w_line_opt, 'b')\n",
        "plt.ylabel('Weight (Training)', fontsize=15)\n",
        "plt.xlabel('Height (Training)', fontsize=15)\n",
        "plt.legend(['OLS: w=-266.53+6.138h','Observed'],fontsize=15)\n",
        "\n",
        "plt.show()"
      ]
    },
    {
      "cell_type": "code",
      "execution_count": null,
      "id": "214e7697",
      "metadata": {
        "id": "214e7697",
        "outputId": "5c6b4bb8-52c8-4264-b932-91991e822c66"
      },
      "outputs": [
        {
          "data": {
            "text/html": [
              "<div>\n",
              "<style scoped>\n",
              "    .dataframe tbody tr th:only-of-type {\n",
              "        vertical-align: middle;\n",
              "    }\n",
              "\n",
              "    .dataframe tbody tr th {\n",
              "        vertical-align: top;\n",
              "    }\n",
              "\n",
              "    .dataframe thead th {\n",
              "        text-align: right;\n",
              "    }\n",
              "</style>\n",
              "<table border=\"1\" class=\"dataframe\">\n",
              "  <thead>\n",
              "    <tr style=\"text-align: right;\">\n",
              "      <th></th>\n",
              "      <th>w</th>\n",
              "      <th>h</th>\n",
              "      <th>w_hat</th>\n",
              "      <th>error</th>\n",
              "      <th>error_squared</th>\n",
              "    </tr>\n",
              "  </thead>\n",
              "  <tbody>\n",
              "    <tr>\n",
              "      <th>0</th>\n",
              "      <td>127</td>\n",
              "      <td>63</td>\n",
              "      <td>111</td>\n",
              "      <td>16</td>\n",
              "      <td>256</td>\n",
              "    </tr>\n",
              "    <tr>\n",
              "      <th>1</th>\n",
              "      <td>121</td>\n",
              "      <td>64</td>\n",
              "      <td>118</td>\n",
              "      <td>3</td>\n",
              "      <td>9</td>\n",
              "    </tr>\n",
              "    <tr>\n",
              "      <th>2</th>\n",
              "      <td>142</td>\n",
              "      <td>66</td>\n",
              "      <td>132</td>\n",
              "      <td>10</td>\n",
              "      <td>100</td>\n",
              "    </tr>\n",
              "    <tr>\n",
              "      <th>3</th>\n",
              "      <td>157</td>\n",
              "      <td>69</td>\n",
              "      <td>153</td>\n",
              "      <td>4</td>\n",
              "      <td>16</td>\n",
              "    </tr>\n",
              "    <tr>\n",
              "      <th>4</th>\n",
              "      <td>162</td>\n",
              "      <td>69</td>\n",
              "      <td>153</td>\n",
              "      <td>9</td>\n",
              "      <td>81</td>\n",
              "    </tr>\n",
              "    <tr>\n",
              "      <th>5</th>\n",
              "      <td>156</td>\n",
              "      <td>71</td>\n",
              "      <td>167</td>\n",
              "      <td>-11</td>\n",
              "      <td>121</td>\n",
              "    </tr>\n",
              "    <tr>\n",
              "      <th>6</th>\n",
              "      <td>169</td>\n",
              "      <td>71</td>\n",
              "      <td>167</td>\n",
              "      <td>2</td>\n",
              "      <td>4</td>\n",
              "    </tr>\n",
              "    <tr>\n",
              "      <th>7</th>\n",
              "      <td>165</td>\n",
              "      <td>72</td>\n",
              "      <td>174</td>\n",
              "      <td>-9</td>\n",
              "      <td>81</td>\n",
              "    </tr>\n",
              "    <tr>\n",
              "      <th>8</th>\n",
              "      <td>181</td>\n",
              "      <td>73</td>\n",
              "      <td>181</td>\n",
              "      <td>0</td>\n",
              "      <td>0</td>\n",
              "    </tr>\n",
              "    <tr>\n",
              "      <th>9</th>\n",
              "      <td>208</td>\n",
              "      <td>75</td>\n",
              "      <td>195</td>\n",
              "      <td>13</td>\n",
              "      <td>169</td>\n",
              "    </tr>\n",
              "  </tbody>\n",
              "</table>\n",
              "</div>"
            ],
            "text/plain": [
              "     w   h  w_hat  error  error_squared\n",
              "0  127  63    111     16            256\n",
              "1  121  64    118      3              9\n",
              "2  142  66    132     10            100\n",
              "3  157  69    153      4             16\n",
              "4  162  69    153      9             81\n",
              "5  156  71    167    -11            121\n",
              "6  169  71    167      2              4\n",
              "7  165  72    174     -9             81\n",
              "8  181  73    181      0              0\n",
              "9  208  75    195     13            169"
            ]
          },
          "execution_count": 49,
          "metadata": {},
          "output_type": "execute_result"
        }
      ],
      "source": [
        "df_opt = pd.DataFrame()\n",
        "df_opt['w'] = w\n",
        "df_opt['h'] = h\n",
        "df_opt['w_hat'] = w_line_opt\n",
        "\n",
        "res = w-w_line_opt\n",
        "df_opt['error'] = res\n",
        "df_opt['error_squared'] = res**2\n",
        "\n",
        "df_1"
      ]
    },
    {
      "cell_type": "code",
      "execution_count": null,
      "id": "30608901",
      "metadata": {
        "id": "30608901",
        "outputId": "a1ff12d1-62da-4784-df22-61e22aa61ba3"
      },
      "outputs": [
        {
          "name": "stdout",
          "output_type": "stream",
          "text": [
            "bias -4.547473508864641e-13\n",
            "var 66.37621691206056\n",
            "SSE 597.3859522085452\n"
          ]
        }
      ],
      "source": [
        "print('bias ' + str(np.sum(res)))\n",
        "print('var ' + str(np.var(res)*10/9))\n",
        "print('SSE ' + str(np.sum(res**2)))"
      ]
    },
    {
      "cell_type": "code",
      "execution_count": null,
      "id": "db800077",
      "metadata": {
        "id": "db800077",
        "outputId": "bc17f3a2-2833-46f6-a682-527e9f519fc9"
      },
      "outputs": [
        {
          "data": {
            "text/plain": [
              "6.137581462708289"
            ]
          },
          "execution_count": 52,
          "metadata": {},
          "output_type": "execute_result"
        }
      ],
      "source": [
        "beta_1"
      ]
    },
    {
      "cell_type": "code",
      "execution_count": null,
      "id": "345a0c1c",
      "metadata": {
        "id": "345a0c1c"
      },
      "outputs": [],
      "source": []
    }
  ],
  "metadata": {
    "kernelspec": {
      "display_name": "Python 3",
      "language": "python",
      "name": "python3"
    },
    "language_info": {
      "codemirror_mode": {
        "name": "ipython",
        "version": 3
      },
      "file_extension": ".py",
      "mimetype": "text/x-python",
      "name": "python",
      "nbconvert_exporter": "python",
      "pygments_lexer": "ipython3",
      "version": "3.6.13"
    },
    "colab": {
      "provenance": [],
      "include_colab_link": true
    }
  },
  "nbformat": 4,
  "nbformat_minor": 5
}